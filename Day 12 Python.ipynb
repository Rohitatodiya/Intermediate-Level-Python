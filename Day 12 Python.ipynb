{
 "cells": [
  {
   "cell_type": "markdown",
   "id": "8d3c167d",
   "metadata": {},
   "source": [
    "# Numpy Library"
   ]
  },
  {
   "cell_type": "code",
   "execution_count": 3,
   "id": "bcd52e7e",
   "metadata": {},
   "outputs": [],
   "source": [
    "import numpy as np"
   ]
  },
  {
   "cell_type": "code",
   "execution_count": 57,
   "id": "f9e0c625",
   "metadata": {},
   "outputs": [
    {
     "name": "stdout",
     "output_type": "stream",
     "text": [
      "1.21.5\n"
     ]
    }
   ],
   "source": [
    "print(np.__version__)"
   ]
  },
  {
   "cell_type": "markdown",
   "id": "edb4f2c0",
   "metadata": {},
   "source": [
    "# Create a Numpy ndarray Object"
   ]
  },
  {
   "cell_type": "markdown",
   "id": "65b0a033",
   "metadata": {},
   "source": [
    "NumPy is used to work with arrays. The array object in NumPy is called ndarray. \n"
   ]
  },
  {
   "cell_type": "markdown",
   "id": "f57d7bc3",
   "metadata": {},
   "source": [
    "We can create a NumPy ndarray object by using the array() function."
   ]
  },
  {
   "cell_type": "code",
   "execution_count": 58,
   "id": "fe8e9dd0",
   "metadata": {},
   "outputs": [],
   "source": [
    "import numpy as np"
   ]
  },
  {
   "cell_type": "code",
   "execution_count": 4,
   "id": "b0fca752",
   "metadata": {},
   "outputs": [
    {
     "name": "stdout",
     "output_type": "stream",
     "text": [
      "[1 2 3 4 5]\n",
      "<class 'numpy.ndarray'>\n"
     ]
    }
   ],
   "source": [
    "arr = np.array([1,2,3,4,5])\n",
    "print(arr)\n",
    "print(type(arr))"
   ]
  },
  {
   "cell_type": "code",
   "execution_count": 5,
   "id": "a1ef36d0",
   "metadata": {},
   "outputs": [
    {
     "name": "stdout",
     "output_type": "stream",
     "text": [
      "[1 2 3 4 5]\n",
      "<class 'numpy.ndarray'>\n"
     ]
    }
   ],
   "source": [
    "arr = np.array((1,2,3,4,5))\n",
    "print(arr)\n",
    "print(type(arr))"
   ]
  },
  {
   "cell_type": "markdown",
   "id": "ced94fe5",
   "metadata": {},
   "source": [
    "# To create an ndarray, we can pass a list, tuple or any array-like object into the array() method, and it will be converted into an ndarray:"
   ]
  },
  {
   "cell_type": "markdown",
   "id": "a39a6510",
   "metadata": {},
   "source": [
    "# Use a tuple to create a NumPy array: "
   ]
  },
  {
   "cell_type": "code",
   "execution_count": 60,
   "id": "7e264d57",
   "metadata": {},
   "outputs": [],
   "source": [
    "import numpy as np "
   ]
  },
  {
   "cell_type": "code",
   "execution_count": 62,
   "id": "241ca282",
   "metadata": {},
   "outputs": [
    {
     "name": "stdout",
     "output_type": "stream",
     "text": [
      "[1 2 3 4 5]\n",
      "<class 'numpy.ndarray'>\n"
     ]
    }
   ],
   "source": [
    "arr = np.array((1,2,3,4,5))\n",
    "print(arr)\n",
    "print(type(arr))"
   ]
  },
  {
   "cell_type": "markdown",
   "id": "86735f10",
   "metadata": {},
   "source": [
    "# Dimension in array"
   ]
  },
  {
   "cell_type": "markdown",
   "id": "ce9b5c37",
   "metadata": {},
   "source": [
    "0-D Arrays 0-D arrays, scalars, are the elements in an array.each value in an array is o 0-D\n",
    "array."
   ]
  },
  {
   "cell_type": "markdown",
   "id": "88f16e16",
   "metadata": {},
   "source": [
    "Create a 0-D array with value 20"
   ]
  },
  {
   "cell_type": "code",
   "execution_count": 64,
   "id": "3e112961",
   "metadata": {},
   "outputs": [
    {
     "name": "stdout",
     "output_type": "stream",
     "text": [
      "42\n",
      "<class 'numpy.ndarray'>\n",
      "0\n"
     ]
    }
   ],
   "source": [
    "arr = np.array(42)\n",
    "print(arr)\n",
    "print(type(arr))\n",
    "print(arr.ndim)"
   ]
  },
  {
   "cell_type": "markdown",
   "id": "3b6d7a78",
   "metadata": {},
   "source": [
    "# 1 dimension array"
   ]
  },
  {
   "cell_type": "markdown",
   "id": "3d4dc50d",
   "metadata": {},
   "source": [
    "1-D Arrays 0-D array that has 0-D arrays as its elements is called uni-dimensional or 1-D array."
   ]
  },
  {
   "cell_type": "code",
   "execution_count": 7,
   "id": "0ee30b9b",
   "metadata": {},
   "outputs": [
    {
     "name": "stdout",
     "output_type": "stream",
     "text": [
      "[1 2 4 5 6]\n",
      "1\n"
     ]
    }
   ],
   "source": [
    "arr = np.array([1,2,4,5,6])\n",
    "print(arr)\n",
    "print(arr.ndim)"
   ]
  },
  {
   "cell_type": "markdown",
   "id": "12d2d8d8",
   "metadata": {},
   "source": [
    "# 2 dimension array"
   ]
  },
  {
   "cell_type": "code",
   "execution_count": 8,
   "id": "d4b98723",
   "metadata": {},
   "outputs": [
    {
     "name": "stdout",
     "output_type": "stream",
     "text": [
      "[[1 2 3]\n",
      " [4 5 6]]\n",
      "<class 'numpy.ndarray'>\n",
      "2\n"
     ]
    }
   ],
   "source": [
    "arr = np.array([[1,2,3],[4,5,6]])\n",
    "print(arr)\n",
    "print(type(arr))\n",
    "print(arr.ndim)"
   ]
  },
  {
   "cell_type": "code",
   "execution_count": 9,
   "id": "6217e281",
   "metadata": {},
   "outputs": [
    {
     "name": "stdout",
     "output_type": "stream",
     "text": [
      "[[1.2 2.6 3.5]\n",
      " [4.6 5.6 6.7]]\n",
      "<class 'numpy.ndarray'>\n",
      "2\n"
     ]
    }
   ],
   "source": [
    "arr = np.array([[1.2,2.6,3.5],[4.6,5.6,6.7]])\n",
    "print(arr)\n",
    "print(type(arr))\n",
    "print(arr.ndim)"
   ]
  },
  {
   "cell_type": "markdown",
   "id": "7a53870c",
   "metadata": {},
   "source": [
    "# 3 dimension array"
   ]
  },
  {
   "cell_type": "markdown",
   "id": "e5f423a0",
   "metadata": {},
   "source": [
    "Am array that has 2-D arrays (matrices) as its elements is called 3-D array."
   ]
  },
  {
   "cell_type": "code",
   "execution_count": 13,
   "id": "d2525200",
   "metadata": {},
   "outputs": [],
   "source": [
    "import numpy as np"
   ]
  },
  {
   "cell_type": "code",
   "execution_count": 17,
   "id": "9db158d6",
   "metadata": {},
   "outputs": [
    {
     "name": "stdout",
     "output_type": "stream",
     "text": [
      "[[[1 2 3]\n",
      "  [4 5 6]]\n",
      "\n",
      " [[1 2 3]\n",
      "  [4 5 6]]]\n",
      "<class 'numpy.ndarray'>\n",
      "3\n"
     ]
    }
   ],
   "source": [
    "arr = np.array([[[1,2,3],[4,5,6]],[[1,2,3],[4,5,6]]])\n",
    "print(arr)\n",
    "print(type(arr))\n",
    "print(arr.ndim)"
   ]
  },
  {
   "cell_type": "markdown",
   "id": "ae57d939",
   "metadata": {},
   "source": [
    "# Check number of Dimension?"
   ]
  },
  {
   "cell_type": "code",
   "execution_count": 18,
   "id": "141a14e4",
   "metadata": {},
   "outputs": [
    {
     "name": "stdout",
     "output_type": "stream",
     "text": [
      "0\n",
      "1\n",
      "2\n",
      "3\n"
     ]
    }
   ],
   "source": [
    "a = np.array(42)\n",
    "b = np.array([1,2,3,4,5])\n",
    "c = np.array([[1,2,3],[4,5,6]])\n",
    "d = np.array([[[1,2,3],[4,5,6],[1,2,3],[4,5,6]]])\n",
    "\n",
    "print(a.ndim)\n",
    "print(b.ndim)\n",
    "print(c.ndim)\n",
    "print(d.ndim)"
   ]
  },
  {
   "cell_type": "markdown",
   "id": "b558d030",
   "metadata": {},
   "source": [
    "# Higher Dimensional Arrays"
   ]
  },
  {
   "cell_type": "markdown",
   "id": "c2d4d8c6",
   "metadata": {},
   "source": [
    "An array can have any number of dimensions. "
   ]
  },
  {
   "cell_type": "markdown",
   "id": "e3d087b0",
   "metadata": {},
   "source": [
    "When the array is created, you can define the number of dimensions by using the ndmin argument. "
   ]
  },
  {
   "cell_type": "markdown",
   "id": "64f0d75d",
   "metadata": {},
   "source": [
    "# Create an array with 5 dimensions as verify that it has 5 dimenstions:"
   ]
  },
  {
   "cell_type": "code",
   "execution_count": 25,
   "id": "9c0ce3f8",
   "metadata": {},
   "outputs": [
    {
     "name": "stdout",
     "output_type": "stream",
     "text": [
      "[[[[[1 2 3 4 5]]]]]\n",
      "number of dimesion: 5\n"
     ]
    }
   ],
   "source": [
    "arr = np.array([1,2,3,4,5], ndmin=5)\n",
    "\n",
    "print(arr)\n",
    "print('number of dimesion:' , arr.ndim)"
   ]
  },
  {
   "cell_type": "code",
   "execution_count": 26,
   "id": "067c459d",
   "metadata": {},
   "outputs": [
    {
     "name": "stdout",
     "output_type": "stream",
     "text": [
      "[[[[1 2 3 4]]]]\n",
      "4\n"
     ]
    }
   ],
   "source": [
    "a = np.array([[[[1,2,3,4]]]])\n",
    "print(a)\n",
    "print(a.ndim)"
   ]
  },
  {
   "cell_type": "markdown",
   "id": "cc31a8e9",
   "metadata": {},
   "source": [
    "# Numpy array Indexing"
   ]
  },
  {
   "cell_type": "markdown",
   "id": "35d7ecf3",
   "metadata": {},
   "source": [
    "Array indexing is the same as accessing an array element."
   ]
  },
  {
   "cell_type": "markdown",
   "id": "56e3a0d7",
   "metadata": {},
   "source": [
    "You can access an array element by referrring to its index number. "
   ]
  },
  {
   "cell_type": "markdown",
   "id": "dcbab080",
   "metadata": {},
   "source": [
    "The indexes in NumPy arrays start with, 0 meaning that the element has index 0 , and the second has index 1 etc."
   ]
  },
  {
   "cell_type": "markdown",
   "id": "a6ba8a92",
   "metadata": {},
   "source": [
    "# Get the first element from the following array:"
   ]
  },
  {
   "cell_type": "code",
   "execution_count": 27,
   "id": "608f7267",
   "metadata": {},
   "outputs": [
    {
     "name": "stdout",
     "output_type": "stream",
     "text": [
      "1\n"
     ]
    }
   ],
   "source": [
    "arr = np.array([1,2,3,4])\n",
    "print(arr[0])\n"
   ]
  },
  {
   "cell_type": "markdown",
   "id": "948d6b03",
   "metadata": {},
   "source": [
    "# Get third and sixth and 8th elements from the following array and add them."
   ]
  },
  {
   "cell_type": "code",
   "execution_count": 29,
   "id": "f7893e8d",
   "metadata": {},
   "outputs": [
    {
     "name": "stdout",
     "output_type": "stream",
     "text": [
      "the second element is  66\n",
      "the sixth element is  56\n",
      "the 8th element is  89\n",
      "sum of this element 211\n"
     ]
    }
   ],
   "source": [
    "m = np.array([23,45,66,78,23,56,67,89,90])\n",
    "print(\"the second element is \", m[2])\n",
    "print(\"the sixth element is \",m[5])\n",
    "print(\"the 8th element is \",m[7])\n",
    "print(\"sum of this element\",m[2]+m[5]+m[7])"
   ]
  },
  {
   "cell_type": "code",
   "execution_count": null,
   "id": "7b3d47e9",
   "metadata": {},
   "outputs": [],
   "source": []
  },
  {
   "cell_type": "markdown",
   "id": "6812851f",
   "metadata": {},
   "source": [
    "# 2-D Array Indexing"
   ]
  },
  {
   "cell_type": "code",
   "execution_count": 30,
   "id": "f517178c",
   "metadata": {},
   "outputs": [
    {
     "name": "stdout",
     "output_type": "stream",
     "text": [
      "2nd element on 1st row:  2\n"
     ]
    }
   ],
   "source": [
    "arr = np.array([[1,2,3],[4,5,6]])\n",
    "print('2nd element on 1st row: ', arr[0,1])"
   ]
  },
  {
   "cell_type": "code",
   "execution_count": 31,
   "id": "1c1ea2ae",
   "metadata": {},
   "outputs": [
    {
     "name": "stdout",
     "output_type": "stream",
     "text": [
      "4th element on 1st row : 4\n"
     ]
    }
   ],
   "source": [
    "arr = np.array([[1,2,3,4,5],[6,7,8,9,10]])\n",
    "print('4th element on 1st row :', arr[0,3])"
   ]
  },
  {
   "cell_type": "code",
   "execution_count": 32,
   "id": "5a3eb72a",
   "metadata": {},
   "outputs": [
    {
     "name": "stdout",
     "output_type": "stream",
     "text": [
      "1st element on 2nd row : 6\n"
     ]
    }
   ],
   "source": [
    "arr = np.array([[1,2,3,4,5],[6,7,8,9,10]])\n",
    "print('1st element on 2nd row :', arr[1,0])"
   ]
  },
  {
   "cell_type": "code",
   "execution_count": 33,
   "id": "4383d24a",
   "metadata": {},
   "outputs": [
    {
     "name": "stdout",
     "output_type": "stream",
     "text": [
      "last element on 2nd row: 10\n"
     ]
    }
   ],
   "source": [
    "arr = np.array([[1,2,3,4,5],[6,7,8,9,10]])\n",
    "print(\"last element on 2nd row:\", arr[1,4])"
   ]
  },
  {
   "cell_type": "markdown",
   "id": "824b6d1c",
   "metadata": {},
   "source": [
    "# add the element of row 1 and last element "
   ]
  },
  {
   "cell_type": "code",
   "execution_count": 34,
   "id": "bc1bfe4b",
   "metadata": {},
   "outputs": [
    {
     "name": "stdout",
     "output_type": "stream",
     "text": [
      "1st element of 1st row : 1\n",
      "last element of 2nd row: 10\n",
      "The Sum is =  11\n"
     ]
    }
   ],
   "source": [
    "arr = np.array([[1,2,3,4,5],[6,7,8,9,10]])\n",
    "print(\"1st element of 1st row :\",arr[0,0])\n",
    "print(\"last element of 2nd row:\", arr[1,4])\n",
    "print(\"The Sum is = \",arr[0,0]+arr[1,4])"
   ]
  },
  {
   "cell_type": "markdown",
   "id": "0b568185",
   "metadata": {},
   "source": [
    "# Access of 3-D Arrays"
   ]
  },
  {
   "cell_type": "markdown",
   "id": "b66c9343",
   "metadata": {},
   "source": [
    "To access elements from 3-D arrays we can use comma separated integers representing the dimensions and the index of the element."
   ]
  },
  {
   "cell_type": "markdown",
   "id": "3984dc6e",
   "metadata": {},
   "source": [
    "# Access the third element of the second array of the first array:"
   ]
  },
  {
   "cell_type": "code",
   "execution_count": 37,
   "id": "f4e9f3b2",
   "metadata": {},
   "outputs": [
    {
     "name": "stdout",
     "output_type": "stream",
     "text": [
      "6\n"
     ]
    }
   ],
   "source": [
    "arr = np.array([[[1,2,3],[4,5,6],[7,8,9],[10,11,12]]])\n",
    "print(arr[0,1,2])"
   ]
  },
  {
   "cell_type": "code",
   "execution_count": 38,
   "id": "ce1ba867",
   "metadata": {},
   "outputs": [
    {
     "name": "stdout",
     "output_type": "stream",
     "text": [
      "3\n"
     ]
    }
   ],
   "source": [
    "arr = np.array([[[1,2,3],[4,5,6],[7,8,9],[10,11,12]]])\n",
    "print(arr[0,0,2])"
   ]
  },
  {
   "cell_type": "code",
   "execution_count": 39,
   "id": "fc947aaf",
   "metadata": {},
   "outputs": [
    {
     "name": "stdout",
     "output_type": "stream",
     "text": [
      "12\n"
     ]
    }
   ],
   "source": [
    "arr = np.array([[[1,2,3],[4,5,6],[7,8,9],[10,11,12]]])\n",
    "print(arr[0,3,2])"
   ]
  },
  {
   "cell_type": "code",
   "execution_count": 56,
   "id": "ff8ffacf",
   "metadata": {},
   "outputs": [
    {
     "name": "stdout",
     "output_type": "stream",
     "text": [
      "6\n"
     ]
    }
   ],
   "source": [
    "arr = np.array([[[1,2,3],[4,5,6]],[[7,8,9],[10,11,12]]])\n",
    "print(arr[0,1,2])"
   ]
  },
  {
   "cell_type": "code",
   "execution_count": null,
   "id": "84bf89b9",
   "metadata": {},
   "outputs": [],
   "source": []
  }
 ],
 "metadata": {
  "kernelspec": {
   "display_name": "Python 3 (ipykernel)",
   "language": "python",
   "name": "python3"
  },
  "language_info": {
   "codemirror_mode": {
    "name": "ipython",
    "version": 3
   },
   "file_extension": ".py",
   "mimetype": "text/x-python",
   "name": "python",
   "nbconvert_exporter": "python",
   "pygments_lexer": "ipython3",
   "version": "3.11.5"
  }
 },
 "nbformat": 4,
 "nbformat_minor": 5
}
