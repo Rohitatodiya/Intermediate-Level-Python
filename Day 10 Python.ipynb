{
 "cells": [
  {
   "cell_type": "markdown",
   "id": "c3c2c02b",
   "metadata": {},
   "source": [
    "\n",
    "# Dictionary In Python"
   ]
  },
  {
   "cell_type": "markdown",
   "id": "28247364",
   "metadata": {},
   "source": [
    "creating a Dictionary"
   ]
  },
  {
   "cell_type": "code",
   "execution_count": 3,
   "id": "f297e805",
   "metadata": {},
   "outputs": [
    {
     "name": "stdout",
     "output_type": "stream",
     "text": [
      "{'ID': '123', 'Name': 'Rohit', 'year': '2001'}\n",
      "<class 'dict'>\n"
     ]
    }
   ],
   "source": [
    "a = {\"ID\":\"123\",\n",
    "     \"Name\":\"Rohit\",\n",
    "     \"year\":\"2001\"\n",
    "    }\n",
    "print(a)\n",
    "print(type(a))"
   ]
  },
  {
   "cell_type": "code",
   "execution_count": 10,
   "id": "86b309d3",
   "metadata": {},
   "outputs": [
    {
     "name": "stdout",
     "output_type": "stream",
     "text": [
      "Rohit\n",
      "123\n",
      "1964\n"
     ]
    }
   ],
   "source": [
    "a = {\"ID\":\"123\",\n",
    "     \"Name\":\"Rohit\",\n",
    "     \"year\":2001,\n",
    "     \"year\":1964\n",
    "    }\n",
    "print(a[\"Name\"])\n",
    "print(a[\"ID\"])\n",
    "print(a[\"year\"])"
   ]
  },
  {
   "cell_type": "code",
   "execution_count": 13,
   "id": "f7987f6f",
   "metadata": {},
   "outputs": [
    {
     "name": "stdout",
     "output_type": "stream",
     "text": [
      "{'ID': '123', 'Name': 'Rohit', 'year': 2001}\n"
     ]
    }
   ],
   "source": [
    "a = {\"ID\":\"123\",\n",
    "     \"Name\":\"Rohit\",\n",
    "     \"year\":1994,\n",
    "     \"year\":2001\n",
    "    }\n",
    "print(a)"
   ]
  },
  {
   "cell_type": "markdown",
   "id": "d866a2cd",
   "metadata": {},
   "source": [
    "# Dictionary Length"
   ]
  },
  {
   "cell_type": "code",
   "execution_count": 14,
   "id": "b84dba85",
   "metadata": {},
   "outputs": [
    {
     "name": "stdout",
     "output_type": "stream",
     "text": [
      "3\n"
     ]
    }
   ],
   "source": [
    "a = {\"ID\":\"123\",\n",
    "     \"Name\":\"Rohit\",\n",
    "     \"year\":\"2001\"\n",
    "    }\n",
    "print(len(a))"
   ]
  },
  {
   "cell_type": "code",
   "execution_count": 20,
   "id": "712cd177",
   "metadata": {},
   "outputs": [
    {
     "name": "stdout",
     "output_type": "stream",
     "text": [
      "{'ID': '123', 'Name': 'Rohit', 'year': '2001', 'a': [1, 2, 3, 4, 5, 6, 7], 'b': (1.1, 2.2, 3.3, 4.4, 5.1), 'c': False}\n"
     ]
    }
   ],
   "source": [
    "dict = {\"ID\":\"123\",\n",
    "     \"Name\":\"Rohit\",\n",
    "     \"year\":\"2001\",\n",
    "     'a': [1,2,3,4,5,6,7],\n",
    "     'b':(1.1,2.2,3.3,4.4,5.1),\n",
    "     'c':False\n",
    "    }\n",
    "print(dict)"
   ]
  },
  {
   "cell_type": "code",
   "execution_count": 33,
   "id": "991b326d",
   "metadata": {},
   "outputs": [
    {
     "name": "stdout",
     "output_type": "stream",
     "text": [
      "Swati\n",
      "22\n",
      "India\n",
      "Swati\n"
     ]
    }
   ],
   "source": [
    "a = {\"name\" : \"Swati\", \"age\" : \"22\", \"country\" : \"India\"}\n",
    "print(a['name'])\n",
    "print(a['age'])\n",
    "print(a['country'])\n",
    "print(a.get(\"name\"))"
   ]
  },
  {
   "cell_type": "code",
   "execution_count": null,
   "id": "08e556b4",
   "metadata": {},
   "outputs": [],
   "source": [
    "a = {\"name\" : \"Swati\", \"age\" : \"22\", \"country\" : \"India\"}\n"
   ]
  },
  {
   "cell_type": "code",
   "execution_count": 34,
   "id": "ae131ebf",
   "metadata": {},
   "outputs": [],
   "source": [
    "x = a.keys()"
   ]
  },
  {
   "cell_type": "code",
   "execution_count": 35,
   "id": "64214a66",
   "metadata": {},
   "outputs": [
    {
     "data": {
      "text/plain": [
       "dict_keys(['name', 'age', 'country'])"
      ]
     },
     "execution_count": 35,
     "metadata": {},
     "output_type": "execute_result"
    }
   ],
   "source": [
    "x"
   ]
  },
  {
   "cell_type": "code",
   "execution_count": 37,
   "id": "22050ca2",
   "metadata": {},
   "outputs": [],
   "source": [
    "a = {\"name\" : \"Swati\", \"age\" : \"22\", \"country\" : \"India\"}"
   ]
  },
  {
   "cell_type": "code",
   "execution_count": 42,
   "id": "e763005a",
   "metadata": {},
   "outputs": [],
   "source": [
    "y = a.values()"
   ]
  },
  {
   "cell_type": "code",
   "execution_count": 43,
   "id": "aa085ec9",
   "metadata": {},
   "outputs": [
    {
     "data": {
      "text/plain": [
       "dict_values(['Swati', '22', 'India'])"
      ]
     },
     "execution_count": 43,
     "metadata": {},
     "output_type": "execute_result"
    }
   ],
   "source": [
    "y"
   ]
  },
  {
   "cell_type": "code",
   "execution_count": 44,
   "id": "baf175e0",
   "metadata": {},
   "outputs": [
    {
     "name": "stdout",
     "output_type": "stream",
     "text": [
      "{'name': 'Swati', 'age': '22', 'country': 'India', 'gender': 'Female', 'maild id': 'swati@123'}\n"
     ]
    }
   ],
   "source": [
    "a = {\"name\" : \"Swati\", \n",
    "     \"age\" : \"22\",\n",
    "     \"country\" : \"India\",\n",
    "    \"gender\":\"Female\"\n",
    "    }\n",
    "a.update({\"maild id\":\"swati@123\"})\n",
    "print(a)"
   ]
  },
  {
   "cell_type": "code",
   "execution_count": 45,
   "id": "73eefe9e",
   "metadata": {},
   "outputs": [
    {
     "name": "stdout",
     "output_type": "stream",
     "text": [
      "{'name': 'Swati', 'country': 'India', 'gender': 'Female'}\n"
     ]
    }
   ],
   "source": [
    "a = {\"name\" : \"Swati\", \n",
    "     \"age\" : \"22\",\n",
    "     \"country\" : \"India\",\n",
    "    \"gender\":\"Female\"\n",
    "    }\n",
    "a.pop(\"age\")\n",
    "print(a)"
   ]
  },
  {
   "cell_type": "code",
   "execution_count": 46,
   "id": "5af1ae16",
   "metadata": {},
   "outputs": [
    {
     "name": "stdout",
     "output_type": "stream",
     "text": [
      "{'name': 'Swati', 'country': 'India', 'gender': 'Female'}\n"
     ]
    }
   ],
   "source": [
    "a = {\"name\" : \"Swati\", \n",
    "     \"age\" : \"22\",\n",
    "     \"country\" : \"India\",\n",
    "    \"gender\":\"Female\"\n",
    "    }\n",
    "del a[\"age\"]\n",
    "print(a)"
   ]
  },
  {
   "cell_type": "code",
   "execution_count": 48,
   "id": "75ec4e96",
   "metadata": {},
   "outputs": [
    {
     "ename": "NameError",
     "evalue": "name 'a' is not defined",
     "output_type": "error",
     "traceback": [
      "\u001b[1;31m---------------------------------------------------------------------------\u001b[0m",
      "\u001b[1;31mNameError\u001b[0m                                 Traceback (most recent call last)",
      "Input \u001b[1;32mIn [48]\u001b[0m, in \u001b[0;36m<cell line: 6>\u001b[1;34m()\u001b[0m\n\u001b[0;32m      1\u001b[0m a \u001b[38;5;241m=\u001b[39m {\u001b[38;5;124m\"\u001b[39m\u001b[38;5;124mname\u001b[39m\u001b[38;5;124m\"\u001b[39m : \u001b[38;5;124m\"\u001b[39m\u001b[38;5;124mSwati\u001b[39m\u001b[38;5;124m\"\u001b[39m, \n\u001b[0;32m      2\u001b[0m      \u001b[38;5;124m\"\u001b[39m\u001b[38;5;124mage\u001b[39m\u001b[38;5;124m\"\u001b[39m : \u001b[38;5;124m\"\u001b[39m\u001b[38;5;124m22\u001b[39m\u001b[38;5;124m\"\u001b[39m,\n\u001b[0;32m      3\u001b[0m      \u001b[38;5;124m\"\u001b[39m\u001b[38;5;124mcountry\u001b[39m\u001b[38;5;124m\"\u001b[39m : \u001b[38;5;124m\"\u001b[39m\u001b[38;5;124mIndia\u001b[39m\u001b[38;5;124m\"\u001b[39m,\n\u001b[0;32m      4\u001b[0m     \u001b[38;5;124m\"\u001b[39m\u001b[38;5;124mgender\u001b[39m\u001b[38;5;124m\"\u001b[39m:\u001b[38;5;124m\"\u001b[39m\u001b[38;5;124mFemale\u001b[39m\u001b[38;5;124m\"\u001b[39m}\n\u001b[0;32m      5\u001b[0m \u001b[38;5;28;01mdel\u001b[39;00m a\n\u001b[1;32m----> 6\u001b[0m \u001b[38;5;28mprint\u001b[39m(\u001b[43ma\u001b[49m)\n",
      "\u001b[1;31mNameError\u001b[0m: name 'a' is not defined"
     ]
    }
   ],
   "source": [
    "a = {\"name\" : \"Swati\", \n",
    "     \"age\" : \"22\",\n",
    "     \"country\" : \"India\",\n",
    "    \"gender\":\"Female\"}\n",
    "del a\n",
    "print(a)"
   ]
  },
  {
   "cell_type": "code",
   "execution_count": 49,
   "id": "bf9e4298",
   "metadata": {},
   "outputs": [
    {
     "name": "stdout",
     "output_type": "stream",
     "text": [
      "{}\n",
      "<class 'dict'>\n"
     ]
    }
   ],
   "source": [
    "a = {\"name\" : \"Swati\", \n",
    "     \"age\" : \"22\",\n",
    "     \"country\" : \"India\",\n",
    "    \"gender\":\"Female\"\n",
    "    }\n",
    "a.clear()\n",
    "print(a)\n",
    "print(type(a))\n"
   ]
  },
  {
   "cell_type": "markdown",
   "id": "9132d7a6",
   "metadata": {},
   "source": [
    "# concatination"
   ]
  },
  {
   "cell_type": "code",
   "execution_count": 59,
   "id": "f11e7fa1",
   "metadata": {},
   "outputs": [
    {
     "name": "stdout",
     "output_type": "stream",
     "text": [
      "{1: 10, 2: 20, 3: 50, 4: 35}\n"
     ]
    }
   ],
   "source": [
    "dict1 = {1:10, 2:20}\n",
    "dict2 = {3:30, 4:56}\n",
    "dict3 = {3:50, 4:35}\n",
    "dict4 = {}\n",
    "for d in  ( dict1,dict2,dict3 ): dict4.update(d)\n",
    "print(dict4)"
   ]
  },
  {
   "cell_type": "code",
   "execution_count": 67,
   "id": "fbf0c0c9",
   "metadata": {},
   "outputs": [
    {
     "ename": "SyntaxError",
     "evalue": "invalid syntax (1305175111.py, line 2)",
     "output_type": "error",
     "traceback": [
      "\u001b[1;36m  Input \u001b[1;32mIn [67]\u001b[1;36m\u001b[0m\n\u001b[1;33m    for x in range (1:16):\u001b[0m\n\u001b[1;37m                     ^\u001b[0m\n\u001b[1;31mSyntaxError\u001b[0m\u001b[1;31m:\u001b[0m invalid syntax\n"
     ]
    }
   ],
   "source": [
    "d = dict()\n",
    "for x in range (1:16):\n",
    "    d[x] = x**2\n",
    "    print(d)"
   ]
  },
  {
   "cell_type": "markdown",
   "id": "a0c6e63d",
   "metadata": {},
   "source": [
    "check whether given key already exists in  a dictionary"
   ]
  },
  {
   "cell_type": "code",
   "execution_count": 2,
   "id": "b5411c80",
   "metadata": {},
   "outputs": [
    {
     "name": "stdout",
     "output_type": "stream",
     "text": [
      "key is present in the dictionary\n",
      "key is not present in the dictionary\n"
     ]
    }
   ],
   "source": [
    "d = {1:10,2:20,3:30}\n",
    "def is_key_present(x):\n",
    "    if x in d:\n",
    "        print(\"key is present in the dictionary\")\n",
    "    else:\n",
    "            print(\"key is not present in the dictionary\")\n",
    "is_key_present(2)\n",
    "is_key_present(5)\n",
    "        "
   ]
  },
  {
   "cell_type": "code",
   "execution_count": 3,
   "id": "e8a33546",
   "metadata": {},
   "outputs": [
    {
     "name": "stdout",
     "output_type": "stream",
     "text": [
      "key is not present in the dictionary\n"
     ]
    }
   ],
   "source": [
    "is_key_present(10)"
   ]
  },
  {
   "cell_type": "code",
   "execution_count": null,
   "id": "678329c8",
   "metadata": {},
   "outputs": [],
   "source": []
  }
 ],
 "metadata": {
  "kernelspec": {
   "display_name": "Python 3 (ipykernel)",
   "language": "python",
   "name": "python3"
  },
  "language_info": {
   "codemirror_mode": {
    "name": "ipython",
    "version": 3
   },
   "file_extension": ".py",
   "mimetype": "text/x-python",
   "name": "python",
   "nbconvert_exporter": "python",
   "pygments_lexer": "ipython3",
   "version": "3.9.12"
  }
 },
 "nbformat": 4,
 "nbformat_minor": 5
}
