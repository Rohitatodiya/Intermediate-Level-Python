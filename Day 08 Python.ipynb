{
 "cells": [
  {
   "cell_type": "markdown",
   "id": "07dabeaf",
   "metadata": {},
   "source": [
    "# List in Python"
   ]
  },
  {
   "cell_type": "markdown",
   "id": "b1196264",
   "metadata": {},
   "source": [
    "# Creating a List "
   ]
  },
  {
   "cell_type": "code",
   "execution_count": 1,
   "id": "e04e2265",
   "metadata": {},
   "outputs": [
    {
     "name": "stdout",
     "output_type": "stream",
     "text": [
      "['apple', 'mango', 'cherry']\n",
      "<class 'list'>\n"
     ]
    }
   ],
   "source": [
    "mylist = [\"apple\",\"mango\",\"cherry\"]\n",
    "print(mylist)\n",
    "print(type(mylist))"
   ]
  },
  {
   "cell_type": "markdown",
   "id": "744f448a",
   "metadata": {},
   "source": [
    "# Allow Duplicates"
   ]
  },
  {
   "cell_type": "code",
   "execution_count": 2,
   "id": "fcb49a4f",
   "metadata": {},
   "outputs": [
    {
     "name": "stdout",
     "output_type": "stream",
     "text": [
      "['apple', 'mango', 'cherry', 'apple']\n"
     ]
    }
   ],
   "source": [
    "mylist = [ \"apple\",\"mango\",\"cherry\",\"apple\" ] \n",
    "print(mylist)"
   ]
  },
  {
   "cell_type": "markdown",
   "id": "0d33aee7",
   "metadata": {},
   "source": [
    "# Data Type"
   ]
  },
  {
   "cell_type": "code",
   "execution_count": 4,
   "id": "9e50ae20",
   "metadata": {},
   "outputs": [
    {
     "name": "stdout",
     "output_type": "stream",
     "text": [
      "['apple', 'mango', 'cherry']\n",
      "[1, 2, 3]\n",
      "[2, 3.4, 4.5]\n",
      "[True, False, True]\n"
     ]
    }
   ],
   "source": [
    "list1 = [\"apple\",\"mango\",\"cherry\"]\n",
    "list2 = [ 1,2,3]\n",
    "list3 = [ 2,3.4,4.5 ]\n",
    "list4 = [ True , False,True ]\n",
    "print(list1)\n",
    "print(list2)\n",
    "print(list3)\n",
    "print(list4)"
   ]
  },
  {
   "cell_type": "code",
   "execution_count": 5,
   "id": "5557d068",
   "metadata": {},
   "outputs": [
    {
     "name": "stdout",
     "output_type": "stream",
     "text": [
      "['apple', 'mango', 'cherry', True, False, True, 2, 3.4, 4.5]\n"
     ]
    }
   ],
   "source": [
    "a = [ \"apple\",\"mango\",\"cherry\",True , False,True,2,3.4,4.5 ]\n",
    "print(a)"
   ]
  },
  {
   "cell_type": "markdown",
   "id": "e96f65fc",
   "metadata": {},
   "source": [
    "# list length"
   ]
  },
  {
   "cell_type": "code",
   "execution_count": 8,
   "id": "f6b67569",
   "metadata": {},
   "outputs": [
    {
     "name": "stdout",
     "output_type": "stream",
     "text": [
      "9\n"
     ]
    }
   ],
   "source": [
    "a = [\"apple\",\"mango\",\"cherry\",True ,False,True,2,3.4,4.5]\n",
    "print(len(a))"
   ]
  },
  {
   "cell_type": "code",
   "execution_count": 10,
   "id": "ad646ba4",
   "metadata": {},
   "outputs": [
    {
     "name": "stdout",
     "output_type": "stream",
     "text": [
      "7\n"
     ]
    }
   ],
   "source": [
    "b = [15,6,7,8,9,35,23]\n",
    "\n",
    "print(len(b))"
   ]
  },
  {
   "cell_type": "markdown",
   "id": "a20867ed",
   "metadata": {},
   "source": [
    "# Access Items"
   ]
  },
  {
   "cell_type": "code",
   "execution_count": 12,
   "id": "b2d10676",
   "metadata": {},
   "outputs": [
    {
     "name": "stdout",
     "output_type": "stream",
     "text": [
      "6\n"
     ]
    }
   ],
   "source": [
    "thislist = [ 12,14,15,16,3,4,5,5,6,6]\n",
    "print(thislist[8])"
   ]
  },
  {
   "cell_type": "code",
   "execution_count": 14,
   "id": "dadc8a08",
   "metadata": {},
   "outputs": [
    {
     "name": "stdout",
     "output_type": "stream",
     "text": [
      "14\n"
     ]
    }
   ],
   "source": [
    "thislist = [ 12,14,15,16,3,4,5,5,6,6]\n",
    "print(thislist[1])"
   ]
  },
  {
   "cell_type": "code",
   "execution_count": 18,
   "id": "8e6f83a8",
   "metadata": {},
   "outputs": [
    {
     "name": "stdout",
     "output_type": "stream",
     "text": [
      "6\n"
     ]
    }
   ],
   "source": [
    "thislist = [ 12,14,15,16,3,4,5,5,6,6]\n",
    "print(thislist[8])"
   ]
  },
  {
   "cell_type": "code",
   "execution_count": 17,
   "id": "7e47814e",
   "metadata": {},
   "outputs": [
    {
     "name": "stdout",
     "output_type": "stream",
     "text": [
      "3\n"
     ]
    }
   ],
   "source": [
    "thislist = [ 12,14,15,16,3,4,5,5,6,6]\n",
    "print(thislist[-6])"
   ]
  },
  {
   "cell_type": "markdown",
   "id": "e7728038",
   "metadata": {},
   "source": [
    "# slicing of list"
   ]
  },
  {
   "cell_type": "code",
   "execution_count": 19,
   "id": "714a9081",
   "metadata": {},
   "outputs": [
    {
     "name": "stdout",
     "output_type": "stream",
     "text": [
      "[12, 14, 15, 16, 3, 4]\n"
     ]
    }
   ],
   "source": [
    "thislist = [ 12,14,15,16,3,4,5,5,6,6]\n",
    "print(thislist[0:6])"
   ]
  },
  {
   "cell_type": "code",
   "execution_count": 20,
   "id": "e9cc2b8f",
   "metadata": {},
   "outputs": [
    {
     "name": "stdout",
     "output_type": "stream",
     "text": [
      "[16, 3, 4, 5, 5, 6]\n"
     ]
    }
   ],
   "source": [
    "thislist = [ 12,14,15,16,3,4,5,5,6,6]\n",
    "print(thislist[3:9])"
   ]
  },
  {
   "cell_type": "code",
   "execution_count": 22,
   "id": "93673736",
   "metadata": {},
   "outputs": [
    {
     "name": "stdout",
     "output_type": "stream",
     "text": [
      "[12, 15, 3, 5, 6]\n"
     ]
    }
   ],
   "source": [
    "thislist = [ 12,14,15,16,3,4,5,5,6,6] #jump part , the value one skip after \n",
    "print(thislist[0:12:2])"
   ]
  },
  {
   "cell_type": "markdown",
   "id": "39be81b4",
   "metadata": {},
   "source": [
    "# Change Items"
   ]
  },
  {
   "cell_type": "code",
   "execution_count": 24,
   "id": "c55b1d46",
   "metadata": {},
   "outputs": [
    {
     "name": "stdout",
     "output_type": "stream",
     "text": [
      "['apple', 'Strawberry', 'cherry']\n"
     ]
    }
   ],
   "source": [
    "mylist = [\"apple\",\"mango\",\"cherry\"]\n",
    "mylist[1] = \"Strawberry\"\n",
    "print(mylist)"
   ]
  },
  {
   "cell_type": "code",
   "execution_count": 26,
   "id": "4aff29dc",
   "metadata": {},
   "outputs": [
    {
     "name": "stdout",
     "output_type": "stream",
     "text": [
      "[1, 23, 'Student', 8, 89, 100]\n"
     ]
    }
   ],
   "source": [
    "a = [ 1, 23, 7,8,89,100]\n",
    "a[2] = \"Student\"\n",
    "print(a)"
   ]
  },
  {
   "cell_type": "markdown",
   "id": "d8973f35",
   "metadata": {},
   "source": [
    "# Change a range of item values"
   ]
  },
  {
   "cell_type": "code",
   "execution_count": 28,
   "id": "8a2a6c5e",
   "metadata": {},
   "outputs": [
    {
     "name": "stdout",
     "output_type": "stream",
     "text": [
      "[1, 23, 'books', 'pen', 'paper', 89, 100, -67, -45]\n"
     ]
    }
   ],
   "source": [
    "a = [ 1, 23, 7,8,89,100,-67,-45]\n",
    "a[2:4] = [\"books\",\"pen\",\"paper\"]\n",
    "print(a)"
   ]
  },
  {
   "cell_type": "code",
   "execution_count": 29,
   "id": "61261712",
   "metadata": {},
   "outputs": [
    {
     "name": "stdout",
     "output_type": "stream",
     "text": [
      "[13, 15, 15, 16, -9]\n"
     ]
    }
   ],
   "source": [
    "a = [ 13, 15,15,16] #add value \n",
    "a.append(-9)\n",
    "print(a) "
   ]
  },
  {
   "cell_type": "code",
   "execution_count": 32,
   "id": "b20a565f",
   "metadata": {},
   "outputs": [
    {
     "name": "stdout",
     "output_type": "stream",
     "text": [
      "['hello', 'glass']\n"
     ]
    }
   ],
   "source": [
    "b = [ \"hello\",\"morning\",\"glass\"]  #remove\n",
    "b.remove(\"morning\")\n",
    "print(b) "
   ]
  },
  {
   "cell_type": "code",
   "execution_count": 36,
   "id": "089f6292",
   "metadata": {},
   "outputs": [
    {
     "name": "stdout",
     "output_type": "stream",
     "text": [
      "[12, 13, 14, 16, -4, -7]\n"
     ]
    }
   ],
   "source": [
    "m = [12 ,13,14,15,16,-4,-7]\n",
    "m.remove(15)\n",
    "print(m)"
   ]
  },
  {
   "cell_type": "code",
   "execution_count": 38,
   "id": "d9ec500e",
   "metadata": {},
   "outputs": [
    {
     "name": "stdout",
     "output_type": "stream",
     "text": [
      "['orange', 8, 8, 7, 'hello', 6, 6, 5, 4, 2, 1]\n"
     ]
    }
   ],
   "source": [
    "mylist = [ 1,2,4,5,6,6,\"hello\",7,8,8,\"orange\"]\n",
    "mylist.reverse()\n",
    "print(mylist)"
   ]
  },
  {
   "cell_type": "code",
   "execution_count": 52,
   "id": "7661d224",
   "metadata": {},
   "outputs": [
    {
     "name": "stdout",
     "output_type": "stream",
     "text": [
      "9\n",
      "the sum of a list is  375\n"
     ]
    }
   ],
   "source": [
    "l = [1,2,3,67,45,67,78,23,89]\n",
    "print(len(l))\n",
    "a = 0\n",
    "for i in range(9):\n",
    "    a = a + l[i]\n",
    "    i = i+1\n",
    "print(\"the sum of a list is \",a)"
   ]
  },
  {
   "cell_type": "markdown",
   "id": "5b2b449f",
   "metadata": {},
   "source": [
    "# Multiply all the numbers of a list"
   ]
  },
  {
   "cell_type": "code",
   "execution_count": 64,
   "id": "b4cd9283",
   "metadata": {},
   "outputs": [
    {
     "name": "stdout",
     "output_type": "stream",
     "text": [
      "10\n",
      "multiply the number is  3628800\n"
     ]
    }
   ],
   "source": [
    "l = [1,2,3,4,5,6,7,8,9,10]\n",
    "print(len(l))\n",
    "a = 1\n",
    "for i in range(10):\n",
    "    a = a*l[i]\n",
    "    i = i+1\n",
    "print(\"multiply the number is \", a)"
   ]
  },
  {
   "cell_type": "code",
   "execution_count": null,
   "id": "b5ba6e7a",
   "metadata": {},
   "outputs": [],
   "source": []
  }
 ],
 "metadata": {
  "kernelspec": {
   "display_name": "Python 3 (ipykernel)",
   "language": "python",
   "name": "python3"
  },
  "language_info": {
   "codemirror_mode": {
    "name": "ipython",
    "version": 3
   },
   "file_extension": ".py",
   "mimetype": "text/x-python",
   "name": "python",
   "nbconvert_exporter": "python",
   "pygments_lexer": "ipython3",
   "version": "3.9.12"
  }
 },
 "nbformat": 4,
 "nbformat_minor": 5
}
