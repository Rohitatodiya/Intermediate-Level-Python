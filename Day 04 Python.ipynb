{
 "cells": [
  {
   "cell_type": "markdown",
   "id": "16245a94",
   "metadata": {},
   "source": [
    "# Control Flow Statements in Python"
   ]
  },
  {
   "cell_type": "markdown",
   "id": "97bda58d",
   "metadata": {},
   "source": [
    "# If Statement"
   ]
  },
  {
   "cell_type": "markdown",
   "id": "719bbb9e",
   "metadata": {},
   "source": [
    "write a program to calculate the percentage of a student in the subjects maths science social science eng and hindi"
   ]
  },
  {
   "cell_type": "code",
   "execution_count": null,
   "id": "b78be048",
   "metadata": {},
   "outputs": [],
   "source": []
  },
  {
   "cell_type": "code",
   "execution_count": 4,
   "id": "797ab331",
   "metadata": {},
   "outputs": [
    {
     "name": "stdout",
     "output_type": "stream",
     "text": [
      " Enter the name of a Student Rohit\n",
      " enter the marks of scored in english 76\n",
      " enter the marks of scored in hindi 82\n",
      " enter the marks of scored in science 80\n",
      " enter the marks of scored in social science 75\n",
      " enter the marks of scored in math 86\n",
      " enter the marks of scored in Sanskrit 83\n",
      " The percentage scored by student is  80.33333333333333\n"
     ]
    }
   ],
   "source": [
    "x = input(\" Enter the name of a Student \")\n",
    "a = int(input(\" enter the marks of scored in english \"))\n",
    "b = int(input(\" enter the marks of scored in hindi \"))\n",
    "c = int(input(\" enter the marks of scored in science \"))\n",
    "d = int(input(\" enter the marks of scored in social science \"))\n",
    "e = int(input(\" enter the marks of scored in math \"))\n",
    "f = int(input(\" enter the marks of scored in Sanskrit \"))\n",
    "n = ((a+b+c+d+e+f)/600)*100\n",
    "print(\" The percentage scored by student is \", n)"
   ]
  },
  {
   "cell_type": "code",
   "execution_count": 9,
   "id": "cb98f0d2",
   "metadata": {},
   "outputs": [
    {
     "name": "stdout",
     "output_type": "stream",
     "text": [
      "enter the percentage scored by a student78\n",
      "B grade\n"
     ]
    }
   ],
   "source": [
    "a = int(input(\"enter the percentage scored by a student\"))\n",
    "if a>90:\n",
    "    print(\"A grade\")\n",
    "if a>=75 and a<90:\n",
    "    print(\"B grade\")\n",
    "if a>=65 and a<75:\n",
    "    print(\"C grade\")"
   ]
  },
  {
   "cell_type": "markdown",
   "id": "4e161da4",
   "metadata": {},
   "source": [
    "# if else Statement"
   ]
  },
  {
   "cell_type": "markdown",
   "id": "944eee29",
   "metadata": {},
   "source": [
    "write a program to display hello if number entered by a user is multifple of 5 else print bye "
   ]
  },
  {
   "cell_type": "code",
   "execution_count": 18,
   "id": "dcb70e23",
   "metadata": {},
   "outputs": [
    {
     "name": "stdout",
     "output_type": "stream",
     "text": [
      "enter the number78\n",
      "bye\n"
     ]
    }
   ],
   "source": [
    "a = int(input(\"enter the number\"))\n",
    "if a%5==0:\n",
    "    print(\"hello\")\n",
    "else:\n",
    "        print(\"bye\")"
   ]
  },
  {
   "cell_type": "code",
   "execution_count": 20,
   "id": "465fca9b",
   "metadata": {},
   "outputs": [
    {
     "name": "stdout",
     "output_type": "stream",
     "text": [
      "enter the number -90\n",
      "Negative Number\n"
     ]
    }
   ],
   "source": [
    "a = int(input(\"enter the number \"))\n",
    "if a>0:\n",
    "    print(\"Positive Number\")\n",
    "else:\n",
    "    print(\"Negative Number\")"
   ]
  },
  {
   "cell_type": "markdown",
   "id": "682d6cc3",
   "metadata": {},
   "source": [
    "# if elif else"
   ]
  },
  {
   "cell_type": "code",
   "execution_count": 23,
   "id": "94de0bb8",
   "metadata": {},
   "outputs": [
    {
     "ename": "SyntaxError",
     "evalue": "invalid syntax (3838550886.py, line 1)",
     "output_type": "error",
     "traceback": [
      "\u001b[1;36m  Input \u001b[1;32mIn [23]\u001b[1;36m\u001b[0m\n\u001b[1;33m    accept the city and print its monument\u001b[0m\n\u001b[1;37m           ^\u001b[0m\n\u001b[1;31mSyntaxError\u001b[0m\u001b[1;31m:\u001b[0m invalid syntax\n"
     ]
    }
   ],
   "source": [
    "accept the city and print its monument\n",
    "Dehli - Red Fort \n",
    "Agra - Taj Mahal\n",
    "Jaipur - Jalmahal\n",
    "Orissa - Konak temple\n",
    "Hyderabad - charminar\n",
    "other - Record is not found"
   ]
  },
  {
   "cell_type": "code",
   "execution_count": 25,
   "id": "c522b5d4",
   "metadata": {},
   "outputs": [
    {
     "name": "stdout",
     "output_type": "stream",
     "text": [
      "enter the city Indore\n",
      "Record is not found\n"
     ]
    }
   ],
   "source": [
    "city = input(\"enter the city \")\n",
    "if city == \"Dehli\":\n",
    "    print(\"The monument in Dehli is Redfort\")\n",
    "elif city == \"Agra\":\n",
    "    print(\"The monument in Agra is Taj Mahal\")\n",
    "elif city == \"Jaipur\":\n",
    "    print(\"The monument in Jaipue is Jalmahal\")\n",
    "elif city == \"Orissa\":\n",
    "    print(\"The monument in orissa is konak temple\")\n",
    "elif city == \"Hydrabad\":\n",
    "    print(\"The monument in Hydrabad is charminar\")\n",
    "else:\n",
    "    print(\"Record is not found\")"
   ]
  },
  {
   "cell_type": "code",
   "execution_count": null,
   "id": "93b246cf",
   "metadata": {},
   "outputs": [],
   "source": []
  }
 ],
 "metadata": {
  "kernelspec": {
   "display_name": "Python 3 (ipykernel)",
   "language": "python",
   "name": "python3"
  },
  "language_info": {
   "codemirror_mode": {
    "name": "ipython",
    "version": 3
   },
   "file_extension": ".py",
   "mimetype": "text/x-python",
   "name": "python",
   "nbconvert_exporter": "python",
   "pygments_lexer": "ipython3",
   "version": "3.9.12"
  }
 },
 "nbformat": 4,
 "nbformat_minor": 5
}
