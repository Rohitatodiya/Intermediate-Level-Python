{
 "cells": [
  {
   "cell_type": "markdown",
   "id": "798aa0bb",
   "metadata": {},
   "source": [
    "# Day 05"
   ]
  },
  {
   "cell_type": "markdown",
   "id": "532995e1",
   "metadata": {},
   "source": [
    "# Concept of Loops"
   ]
  },
  {
   "cell_type": "markdown",
   "id": "30761e77",
   "metadata": {},
   "source": [
    "# while loop"
   ]
  },
  {
   "cell_type": "markdown",
   "id": "9ed55b56",
   "metadata": {},
   "source": [
    "Program to display numbers form 1 to 5"
   ]
  },
  {
   "cell_type": "code",
   "execution_count": 7,
   "id": "ccfca9e2",
   "metadata": {},
   "outputs": [
    {
     "name": "stdout",
     "output_type": "stream",
     "text": [
      "1\n",
      "2\n",
      "3\n",
      "4\n",
      "5\n"
     ]
    }
   ],
   "source": [
    "i = 1\n",
    "n = 5\n",
    "while i<=n:\n",
    "    print(i)\n",
    "    i = i+1"
   ]
  },
  {
   "cell_type": "markdown",
   "id": "a701acc6",
   "metadata": {},
   "source": [
    "Enter the value from a user make multiplication table till 10"
   ]
  },
  {
   "cell_type": "code",
   "execution_count": 11,
   "id": "90d48266",
   "metadata": {},
   "outputs": [
    {
     "name": "stdout",
     "output_type": "stream",
     "text": [
      "Enter the Value23\n",
      "23\n",
      "46\n",
      "69\n",
      "92\n",
      "115\n",
      "138\n",
      "161\n",
      "184\n",
      "207\n",
      "230\n",
      "This is the multiplication table  \n"
     ]
    }
   ],
   "source": [
    "x = int(input(\"Enter the Value\"))\n",
    "i = 1\n",
    "while i<=10:\n",
    "    print(x*i)\n",
    "    i = i+1\n",
    "print(\"This is the multiplication table  \")   "
   ]
  },
  {
   "cell_type": "markdown",
   "id": "1f19e08e",
   "metadata": {},
   "source": [
    "# infinite loop"
   ]
  },
  {
   "cell_type": "code",
   "execution_count": null,
   "id": "2534de08",
   "metadata": {},
   "outputs": [],
   "source": [
    "age = 32\n",
    "while age>18:\n",
    "    print(\"You can vote\")"
   ]
  },
  {
   "cell_type": "code",
   "execution_count": 13,
   "id": "56b58f91",
   "metadata": {},
   "outputs": [
    {
     "name": "stdout",
     "output_type": "stream",
     "text": [
      "Hello Rohit\n",
      "Hello Rohit\n",
      "Hello Rohit\n",
      "Hello Rohit\n",
      "Hello Rohit\n",
      "Hello Rohit\n",
      "Hello Rohit\n",
      "Hello Rohit\n",
      "Hello Rohit\n",
      "Hello Rohit\n"
     ]
    }
   ],
   "source": [
    "count = 0 \n",
    "while(count<10):\n",
    "    count = count+1\n",
    "    print(\"Hello Rohit\")"
   ]
  },
  {
   "cell_type": "markdown",
   "id": "3f3faa74",
   "metadata": {},
   "source": [
    "# Using else Statement in the while loop"
   ]
  },
  {
   "cell_type": "code",
   "execution_count": 14,
   "id": "ffabbf3f",
   "metadata": {},
   "outputs": [
    {
     "name": "stdout",
     "output_type": "stream",
     "text": [
      "Hello Rohit\n",
      "Hello Rohit\n",
      "Hello Rohit\n",
      "Hello Rohit\n",
      "Hello Rohit\n",
      "Hello Rohit\n",
      "Hello Rohit\n",
      "Hello Rohit\n",
      "Hello Rohit\n",
      "Hello Rohit\n",
      "This is the else block\n"
     ]
    }
   ],
   "source": [
    "count = 0 \n",
    "while(count<10):\n",
    "    count = count+1\n",
    "    print(\"Hello Rohit\")\n",
    "else:\n",
    "    print(\"This is the else block\")"
   ]
  },
  {
   "cell_type": "markdown",
   "id": "0f8e85e6",
   "metadata": {},
   "source": [
    "# For Loop"
   ]
  },
  {
   "cell_type": "code",
   "execution_count": 15,
   "id": "cd126273",
   "metadata": {},
   "outputs": [
    {
     "name": "stdout",
     "output_type": "stream",
     "text": [
      "Apple\n",
      "Banana\n",
      "cherry\n"
     ]
    }
   ],
   "source": [
    "fruits = [\"Apple\", \"Banana\", \"cherry\"]\n",
    "for x in fruits:\n",
    "    print(x)"
   ]
  },
  {
   "cell_type": "markdown",
   "id": "976f5a59",
   "metadata": {},
   "source": [
    "# Looping through a String"
   ]
  },
  {
   "cell_type": "code",
   "execution_count": 17,
   "id": "3f55eb26",
   "metadata": {},
   "outputs": [
    {
     "name": "stdout",
     "output_type": "stream",
     "text": [
      "b\n",
      "a\n",
      "n\n",
      "a\n",
      "n\n",
      "a\n"
     ]
    }
   ],
   "source": [
    "for x in \"banana\":\n",
    "    print(x)"
   ]
  },
  {
   "cell_type": "code",
   "execution_count": 18,
   "id": "5b9218e6",
   "metadata": {},
   "outputs": [
    {
     "name": "stdout",
     "output_type": "stream",
     "text": [
      "0\n",
      "1\n",
      "2\n",
      "3\n",
      "4\n",
      "5\n",
      "6\n",
      "7\n",
      "8\n",
      "9\n",
      "10\n",
      "11\n",
      "12\n",
      "13\n",
      "14\n",
      "15\n",
      "16\n",
      "17\n",
      "18\n",
      "19\n",
      "20\n",
      "21\n",
      "22\n",
      "23\n",
      "24\n"
     ]
    }
   ],
   "source": [
    "for x in range(25):\n",
    "    print(x)"
   ]
  },
  {
   "cell_type": "code",
   "execution_count": 19,
   "id": "e4c35e6a",
   "metadata": {},
   "outputs": [
    {
     "name": "stdout",
     "output_type": "stream",
     "text": [
      "3\n",
      "4\n",
      "5\n",
      "6\n",
      "7\n",
      "8\n",
      "9\n",
      "10\n",
      "11\n",
      "12\n",
      "13\n",
      "14\n",
      "15\n",
      "16\n",
      "17\n",
      "18\n",
      "19\n",
      "20\n",
      "21\n",
      "22\n",
      "23\n",
      "24\n"
     ]
    }
   ],
   "source": [
    "for x in range(3,25):\n",
    "    print(x)"
   ]
  },
  {
   "cell_type": "code",
   "execution_count": null,
   "id": "9fc61d2c",
   "metadata": {},
   "outputs": [],
   "source": [
    " "
   ]
  }
 ],
 "metadata": {
  "kernelspec": {
   "display_name": "Python 3 (ipykernel)",
   "language": "python",
   "name": "python3"
  },
  "language_info": {
   "codemirror_mode": {
    "name": "ipython",
    "version": 3
   },
   "file_extension": ".py",
   "mimetype": "text/x-python",
   "name": "python",
   "nbconvert_exporter": "python",
   "pygments_lexer": "ipython3",
   "version": "3.9.12"
  }
 },
 "nbformat": 4,
 "nbformat_minor": 5
}
