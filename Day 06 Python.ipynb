{
 "cells": [
  {
   "cell_type": "markdown",
   "id": "b76f0409",
   "metadata": {},
   "source": [
    "# Day 06 Python"
   ]
  },
  {
   "cell_type": "markdown",
   "id": "d9906c18",
   "metadata": {},
   "source": [
    "# User define functions in Python"
   ]
  },
  {
   "cell_type": "markdown",
   "id": "8ef1811b",
   "metadata": {},
   "source": [
    "# creating a user defined function "
   ]
  },
  {
   "cell_type": "code",
   "execution_count": 5,
   "id": "2c524afb",
   "metadata": {},
   "outputs": [],
   "source": [
    "def my_function():\n",
    "    print(\"Hello class\")\n",
    "    print(\"We are learning Python\")"
   ]
  },
  {
   "cell_type": "markdown",
   "id": "aaca83d0",
   "metadata": {},
   "source": [
    "# calling a function"
   ]
  },
  {
   "cell_type": "code",
   "execution_count": 6,
   "id": "d4dc5b19",
   "metadata": {},
   "outputs": [
    {
     "name": "stdout",
     "output_type": "stream",
     "text": [
      "Hello class\n",
      "We are learning Python\n"
     ]
    }
   ],
   "source": [
    "my_function()"
   ]
  },
  {
   "cell_type": "markdown",
   "id": "b8e1fbcf",
   "metadata": {},
   "source": [
    "# Making the result of a student"
   ]
  },
  {
   "cell_type": "code",
   "execution_count": 39,
   "id": "bce29741",
   "metadata": {},
   "outputs": [],
   "source": [
    "def contact():\n",
    "    print(\"Contact detail of the School\")\n",
    "    print(\"Dehli Public School\")\n",
    "    print(\"Soyat Indore\")\n",
    "    print(\"7879784200\")\n",
    "    print(\"rohitatodiya123@gmail.com\")"
   ]
  },
  {
   "cell_type": "code",
   "execution_count": 40,
   "id": "c1bf6945",
   "metadata": {},
   "outputs": [
    {
     "name": "stdout",
     "output_type": "stream",
     "text": [
      "Name of the studentnayan\n",
      "enter the marks of mathe 89\n",
      "enter the marks of science 78\n",
      "enter the marks of social 90\n",
      "\n",
      "Contact detail of the School\n",
      "Dehli Public School\n",
      "Soyat Indore\n",
      "7879784200\n",
      "rohitatodiya123@gmail.com\n",
      "Name of the studentsoyam\n",
      "enter the marks of mathe 89\n",
      "enter the marks of science 78\n",
      "enter the marks of social 56\n",
      "\n",
      "Contact detail of the School\n",
      "Dehli Public School\n",
      "Soyat Indore\n",
      "7879784200\n",
      "rohitatodiya123@gmail.com\n"
     ]
    },
    {
     "ename": "KeyboardInterrupt",
     "evalue": "Interrupted by user",
     "output_type": "error",
     "traceback": [
      "\u001b[1;31m---------------------------------------------------------------------------\u001b[0m",
      "\u001b[1;31mKeyboardInterrupt\u001b[0m                         Traceback (most recent call last)",
      "Input \u001b[1;32mIn [40]\u001b[0m, in \u001b[0;36m<cell line: 1>\u001b[1;34m()\u001b[0m\n\u001b[0;32m      1\u001b[0m \u001b[38;5;28;01mfor\u001b[39;00m i \u001b[38;5;129;01min\u001b[39;00m \u001b[38;5;28mrange\u001b[39m(\u001b[38;5;241m50\u001b[39m): \n\u001b[1;32m----> 2\u001b[0m     a \u001b[38;5;241m=\u001b[39m \u001b[38;5;28;43minput\u001b[39;49m\u001b[43m(\u001b[49m\u001b[38;5;124;43m\"\u001b[39;49m\u001b[38;5;124;43mName of the student\u001b[39;49m\u001b[38;5;124;43m\"\u001b[39;49m\u001b[43m)\u001b[49m \n\u001b[0;32m      3\u001b[0m     b \u001b[38;5;241m=\u001b[39m \u001b[38;5;28mint\u001b[39m(\u001b[38;5;28minput\u001b[39m(\u001b[38;5;124m\"\u001b[39m\u001b[38;5;124menter the marks of mathe \u001b[39m\u001b[38;5;124m\"\u001b[39m))\n\u001b[0;32m      4\u001b[0m     c \u001b[38;5;241m=\u001b[39m \u001b[38;5;28mint\u001b[39m(\u001b[38;5;28minput\u001b[39m(\u001b[38;5;124m\"\u001b[39m\u001b[38;5;124menter the marks of science \u001b[39m\u001b[38;5;124m\"\u001b[39m))\n",
      "File \u001b[1;32m~\\OneDrive\\Pictures\\BlueStacks\\lib\\site-packages\\ipykernel\\kernelbase.py:1075\u001b[0m, in \u001b[0;36mKernel.raw_input\u001b[1;34m(self, prompt)\u001b[0m\n\u001b[0;32m   1071\u001b[0m \u001b[38;5;28;01mif\u001b[39;00m \u001b[38;5;129;01mnot\u001b[39;00m \u001b[38;5;28mself\u001b[39m\u001b[38;5;241m.\u001b[39m_allow_stdin:\n\u001b[0;32m   1072\u001b[0m     \u001b[38;5;28;01mraise\u001b[39;00m StdinNotImplementedError(\n\u001b[0;32m   1073\u001b[0m         \u001b[38;5;124m\"\u001b[39m\u001b[38;5;124mraw_input was called, but this frontend does not support input requests.\u001b[39m\u001b[38;5;124m\"\u001b[39m\n\u001b[0;32m   1074\u001b[0m     )\n\u001b[1;32m-> 1075\u001b[0m \u001b[38;5;28;01mreturn\u001b[39;00m \u001b[38;5;28;43mself\u001b[39;49m\u001b[38;5;241;43m.\u001b[39;49m\u001b[43m_input_request\u001b[49m\u001b[43m(\u001b[49m\n\u001b[0;32m   1076\u001b[0m \u001b[43m    \u001b[49m\u001b[38;5;28;43mstr\u001b[39;49m\u001b[43m(\u001b[49m\u001b[43mprompt\u001b[49m\u001b[43m)\u001b[49m\u001b[43m,\u001b[49m\n\u001b[0;32m   1077\u001b[0m \u001b[43m    \u001b[49m\u001b[38;5;28;43mself\u001b[39;49m\u001b[38;5;241;43m.\u001b[39;49m\u001b[43m_parent_ident\u001b[49m\u001b[43m[\u001b[49m\u001b[38;5;124;43m\"\u001b[39;49m\u001b[38;5;124;43mshell\u001b[39;49m\u001b[38;5;124;43m\"\u001b[39;49m\u001b[43m]\u001b[49m\u001b[43m,\u001b[49m\n\u001b[0;32m   1078\u001b[0m \u001b[43m    \u001b[49m\u001b[38;5;28;43mself\u001b[39;49m\u001b[38;5;241;43m.\u001b[39;49m\u001b[43mget_parent\u001b[49m\u001b[43m(\u001b[49m\u001b[38;5;124;43m\"\u001b[39;49m\u001b[38;5;124;43mshell\u001b[39;49m\u001b[38;5;124;43m\"\u001b[39;49m\u001b[43m)\u001b[49m\u001b[43m,\u001b[49m\n\u001b[0;32m   1079\u001b[0m \u001b[43m    \u001b[49m\u001b[43mpassword\u001b[49m\u001b[38;5;241;43m=\u001b[39;49m\u001b[38;5;28;43;01mFalse\u001b[39;49;00m\u001b[43m,\u001b[49m\n\u001b[0;32m   1080\u001b[0m \u001b[43m\u001b[49m\u001b[43m)\u001b[49m\n",
      "File \u001b[1;32m~\\OneDrive\\Pictures\\BlueStacks\\lib\\site-packages\\ipykernel\\kernelbase.py:1120\u001b[0m, in \u001b[0;36mKernel._input_request\u001b[1;34m(self, prompt, ident, parent, password)\u001b[0m\n\u001b[0;32m   1117\u001b[0m             \u001b[38;5;28;01mbreak\u001b[39;00m\n\u001b[0;32m   1118\u001b[0m \u001b[38;5;28;01mexcept\u001b[39;00m \u001b[38;5;167;01mKeyboardInterrupt\u001b[39;00m:\n\u001b[0;32m   1119\u001b[0m     \u001b[38;5;66;03m# re-raise KeyboardInterrupt, to truncate traceback\u001b[39;00m\n\u001b[1;32m-> 1120\u001b[0m     \u001b[38;5;28;01mraise\u001b[39;00m \u001b[38;5;167;01mKeyboardInterrupt\u001b[39;00m(\u001b[38;5;124m\"\u001b[39m\u001b[38;5;124mInterrupted by user\u001b[39m\u001b[38;5;124m\"\u001b[39m) \u001b[38;5;28;01mfrom\u001b[39;00m \u001b[38;5;28mNone\u001b[39m\n\u001b[0;32m   1121\u001b[0m \u001b[38;5;28;01mexcept\u001b[39;00m \u001b[38;5;167;01mException\u001b[39;00m:\n\u001b[0;32m   1122\u001b[0m     \u001b[38;5;28mself\u001b[39m\u001b[38;5;241m.\u001b[39mlog\u001b[38;5;241m.\u001b[39mwarning(\u001b[38;5;124m\"\u001b[39m\u001b[38;5;124mInvalid Message:\u001b[39m\u001b[38;5;124m\"\u001b[39m, exc_info\u001b[38;5;241m=\u001b[39m\u001b[38;5;28;01mTrue\u001b[39;00m)\n",
      "\u001b[1;31mKeyboardInterrupt\u001b[0m: Interrupted by user"
     ]
    }
   ],
   "source": [
    "for i in range(50): \n",
    "    a = input(\"Name of the student\") \n",
    "    b = int(input(\"enter the marks of mathe \"))\n",
    "    c = int(input(\"enter the marks of science \"))\n",
    "    d = int(input(\"enter the marks of social \"))\n",
    "    print()\n",
    "    contact()"
   ]
  },
  {
   "cell_type": "markdown",
   "id": "5a439836",
   "metadata": {},
   "source": [
    "# Argument"
   ]
  },
  {
   "cell_type": "code",
   "execution_count": 14,
   "id": "8e640ea0",
   "metadata": {},
   "outputs": [],
   "source": [
    "def my_function(fname):\n",
    "    print(fname + \" \" + \"Sharma\")    "
   ]
  },
  {
   "cell_type": "code",
   "execution_count": 16,
   "id": "639e4d9d",
   "metadata": {},
   "outputs": [
    {
     "name": "stdout",
     "output_type": "stream",
     "text": [
      "Puja Sharma\n",
      "Nayan Sharma\n",
      "Rohit Sharma\n"
     ]
    }
   ],
   "source": [
    "my_function(\"Puja\")\n",
    "my_function(\"Nayan\")\n",
    "my_function(\"Rohit\")"
   ]
  },
  {
   "cell_type": "code",
   "execution_count": 17,
   "id": "cb2fe301",
   "metadata": {},
   "outputs": [],
   "source": [
    "def my_function(fname, lname):\n",
    "    print(fname + \" \" + lname)\n",
    "    "
   ]
  },
  {
   "cell_type": "code",
   "execution_count": 18,
   "id": "95e88089",
   "metadata": {},
   "outputs": [
    {
     "name": "stdout",
     "output_type": "stream",
     "text": [
      "Shreya Verma\n"
     ]
    }
   ],
   "source": [
    "my_function(\"Shreya\",\"Verma\")"
   ]
  },
  {
   "cell_type": "markdown",
   "id": "12fc08e9",
   "metadata": {},
   "source": [
    "to write a program to calculate the electricity bill\n",
    "if 500 unit used -Pay Rs 5 for each unit\n",
    "if 700 unit used -Pay Rs 10 for each unit\n",
    "if 1000 unit used -Pay Rs 15 for each unit\n",
    "if more than 1000 unit used - Pay 20 Rs for each unit"
   ]
  },
  {
   "cell_type": "code",
   "execution_count": 46,
   "id": "7c31a763",
   "metadata": {},
   "outputs": [],
   "source": [
    "def electricity_bill(n):\n",
    "    if n<=500:\n",
    "        print(\"your bill is Rs \",n*5)\n",
    "    elif n>500 and n<=700:\n",
    "        print(\"your bill is Rs \",n*10)\n",
    "    elif n>700 and n<=1000:\n",
    "         print(\"your bill is Rs \",n*15)\n",
    "    elif n>1000:\n",
    "        print(\"your bill is Rs \",n*20)\n",
    "            "
   ]
  },
  {
   "cell_type": "code",
   "execution_count": 47,
   "id": "d99eea71",
   "metadata": {},
   "outputs": [],
   "source": [
    "def instruction():\n",
    "    print(\"last date of paying the bill is 20 april\")\n",
    "    print(\"after 20 april you need to pay 1000 Rs as a fine\")\n",
    "    print(\"Electricity office Indore\")"
   ]
  },
  {
   "cell_type": "code",
   "execution_count": null,
   "id": "e941b0fc",
   "metadata": {},
   "outputs": [
    {
     "name": "stdout",
     "output_type": "stream",
     "text": [
      "Enter the name of a customernayan\n",
      "Enter the unit of electricity you have used 1700\n",
      "your bill is Rs  34000\n",
      "\n",
      "last date of paying the bill is 20 april\n",
      "after 20 april you need to pay 1000 Rs as a fine\n",
      "Electricity office Indore\n"
     ]
    }
   ],
   "source": [
    "for i in range(3):\n",
    "    a = input(\"Enter the name of a customer\")\n",
    "    n = int(input(\"Enter the unit of electricity you have used \"))\n",
    "    electricity_bill(n)\n",
    "    print()\n",
    "    instruction()"
   ]
  },
  {
   "cell_type": "code",
   "execution_count": null,
   "id": "62ef9932",
   "metadata": {},
   "outputs": [],
   "source": []
  },
  {
   "cell_type": "code",
   "execution_count": null,
   "id": "ed41a133",
   "metadata": {},
   "outputs": [],
   "source": []
  }
 ],
 "metadata": {
  "kernelspec": {
   "display_name": "Python 3 (ipykernel)",
   "language": "python",
   "name": "python3"
  },
  "language_info": {
   "codemirror_mode": {
    "name": "ipython",
    "version": 3
   },
   "file_extension": ".py",
   "mimetype": "text/x-python",
   "name": "python",
   "nbconvert_exporter": "python",
   "pygments_lexer": "ipython3",
   "version": "3.9.12"
  }
 },
 "nbformat": 4,
 "nbformat_minor": 5
}
