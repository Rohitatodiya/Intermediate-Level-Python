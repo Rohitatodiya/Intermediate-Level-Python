{
 "cells": [
  {
   "cell_type": "markdown",
   "id": "31d842dc",
   "metadata": {},
   "source": [
    "# Day 11\n",
    "Set in Python"
   ]
  },
  {
   "cell_type": "markdown",
   "id": "016bb4e4",
   "metadata": {},
   "source": [
    "# creating a set"
   ]
  },
  {
   "cell_type": "code",
   "execution_count": 1,
   "id": "74645321",
   "metadata": {},
   "outputs": [
    {
     "name": "stdout",
     "output_type": "stream",
     "text": [
      "{'cat', 'animal', 'ball'}\n",
      "<class 'set'>\n"
     ]
    }
   ],
   "source": [
    "a = {\"animal\", \"ball\" ,\"cat\"}\n",
    "print(a)\n",
    "print(type(a))"
   ]
  },
  {
   "cell_type": "markdown",
   "id": "27933fc7",
   "metadata": {},
   "source": [
    "# Set items are unordered"
   ]
  },
  {
   "cell_type": "code",
   "execution_count": 2,
   "id": "788a8112",
   "metadata": {},
   "outputs": [
    {
     "ename": "TypeError",
     "evalue": "'set' object is not subscriptable",
     "output_type": "error",
     "traceback": [
      "\u001b[1;31m---------------------------------------------------------------------------\u001b[0m",
      "\u001b[1;31mTypeError\u001b[0m                                 Traceback (most recent call last)",
      "Input \u001b[1;32mIn [2]\u001b[0m, in \u001b[0;36m<cell line: 2>\u001b[1;34m()\u001b[0m\n\u001b[0;32m      1\u001b[0m a \u001b[38;5;241m=\u001b[39m {\u001b[38;5;124m\"\u001b[39m\u001b[38;5;124manimal\u001b[39m\u001b[38;5;124m\"\u001b[39m, \u001b[38;5;124m\"\u001b[39m\u001b[38;5;124mball\u001b[39m\u001b[38;5;124m\"\u001b[39m ,\u001b[38;5;124m\"\u001b[39m\u001b[38;5;124mcat\u001b[39m\u001b[38;5;124m\"\u001b[39m}\n\u001b[1;32m----> 2\u001b[0m \u001b[38;5;28mprint\u001b[39m(\u001b[43ma\u001b[49m\u001b[43m[\u001b[49m\u001b[38;5;241;43m0\u001b[39;49m\u001b[43m]\u001b[49m)\n",
      "\u001b[1;31mTypeError\u001b[0m: 'set' object is not subscriptable"
     ]
    }
   ],
   "source": [
    "a = {\"animal\", \"ball\" ,\"cat\"}\n",
    "print(a[0])"
   ]
  },
  {
   "cell_type": "markdown",
   "id": "4c70225b",
   "metadata": {},
   "source": [
    "# Duplicates not allowed"
   ]
  },
  {
   "cell_type": "code",
   "execution_count": 3,
   "id": "6346e6e2",
   "metadata": {},
   "outputs": [
    {
     "name": "stdout",
     "output_type": "stream",
     "text": [
      "{'cat', 'animal', 'ball'}\n"
     ]
    }
   ],
   "source": [
    "a = {\"animal\", \"ball\" ,\"cat\",\"animal\",\"cat\",\"animal\"}\n",
    "print(a)"
   ]
  },
  {
   "cell_type": "markdown",
   "id": "4d725365",
   "metadata": {},
   "source": [
    "# True and 1 consider the same value"
   ]
  },
  {
   "cell_type": "code",
   "execution_count": 9,
   "id": "42cabff7",
   "metadata": {},
   "outputs": [
    {
     "name": "stdout",
     "output_type": "stream",
     "text": [
      "{'cat', 2, 3, 1, 'animal', 'ball'}\n"
     ]
    }
   ],
   "source": [
    "a = {\"animal\", \"ball\" ,\"cat\",\"animal\",\"cat\",\"animal\",1,2,3,True}\n",
    "print(a)\n"
   ]
  },
  {
   "cell_type": "markdown",
   "id": "ff38ef67",
   "metadata": {},
   "source": [
    "# Get the Length of a Set"
   ]
  },
  {
   "cell_type": "code",
   "execution_count": 8,
   "id": "11ee723b",
   "metadata": {},
   "outputs": [
    {
     "name": "stdout",
     "output_type": "stream",
     "text": [
      "{'cat', 2, 3, 1, 'animal', 'ball'}\n",
      "6\n"
     ]
    }
   ],
   "source": [
    "a = {\"animal\", \"ball\" ,\"cat\",\"animal\",\"cat\",\"animal\",1,2,3,True}\n",
    "print(a)\n",
    "print(len(a))"
   ]
  },
  {
   "cell_type": "markdown",
   "id": "e7e74cad",
   "metadata": {},
   "source": [
    "# Set Items - Data Type"
   ]
  },
  {
   "cell_type": "code",
   "execution_count": 10,
   "id": "0310a0b0",
   "metadata": {},
   "outputs": [
    {
     "name": "stdout",
     "output_type": "stream",
     "text": [
      "{1, 2, 3} {1.2, 3.4} {'b', 'a'} {False, True}\n"
     ]
    }
   ],
   "source": [
    "x1 = {1,2,3}\n",
    "x2 = {1.2,3.4}\n",
    "x3 = {\"a\",\"b\"}\n",
    "x4 = {True,False,True}\n",
    "print(x1,x2,x3,x4)"
   ]
  },
  {
   "cell_type": "code",
   "execution_count": 11,
   "id": "06caec7f",
   "metadata": {},
   "outputs": [
    {
     "name": "stdout",
     "output_type": "stream",
     "text": [
      "{False, 1, 2, 3, 5.6, 7.8, (5+4j), -6, -5}\n"
     ]
    }
   ],
   "source": [
    "m = {1,2,3,5.6,7.8,-5,-6,5+4j,True,False}\n",
    "print(m)"
   ]
  },
  {
   "cell_type": "code",
   "execution_count": 13,
   "id": "aaabb829",
   "metadata": {},
   "outputs": [
    {
     "ename": "TypeError",
     "evalue": "unhashable type: 'list'",
     "output_type": "error",
     "traceback": [
      "\u001b[1;31m---------------------------------------------------------------------------\u001b[0m",
      "\u001b[1;31mTypeError\u001b[0m                                 Traceback (most recent call last)",
      "Input \u001b[1;32mIn [13]\u001b[0m, in \u001b[0;36m<cell line: 1>\u001b[1;34m()\u001b[0m\n\u001b[1;32m----> 1\u001b[0m x5 \u001b[38;5;241m=\u001b[39m {[\u001b[38;5;241m1\u001b[39m,\u001b[38;5;241m2\u001b[39m,\u001b[38;5;241m3\u001b[39m,\u001b[38;5;241m4\u001b[39m]}\n\u001b[0;32m      2\u001b[0m \u001b[38;5;28mprint\u001b[39m(x5)\n",
      "\u001b[1;31mTypeError\u001b[0m: unhashable type: 'list'"
     ]
    }
   ],
   "source": [
    "x5 = {[1,2,3,4]}\n",
    "print(x5)"
   ]
  },
  {
   "cell_type": "code",
   "execution_count": 14,
   "id": "01e16412",
   "metadata": {},
   "outputs": [
    {
     "name": "stdout",
     "output_type": "stream",
     "text": [
      "{1, 2, 3, 4}\n"
     ]
    }
   ],
   "source": [
    "x5 = {1,2,3,4}\n",
    "print(x5)"
   ]
  },
  {
   "cell_type": "code",
   "execution_count": 15,
   "id": "f1114ed6",
   "metadata": {},
   "outputs": [
    {
     "ename": "TypeError",
     "evalue": "unhashable type: 'dict'",
     "output_type": "error",
     "traceback": [
      "\u001b[1;31m---------------------------------------------------------------------------\u001b[0m",
      "\u001b[1;31mTypeError\u001b[0m                                 Traceback (most recent call last)",
      "Input \u001b[1;32mIn [15]\u001b[0m, in \u001b[0;36m<cell line: 1>\u001b[1;34m()\u001b[0m\n\u001b[1;32m----> 1\u001b[0m x6 \u001b[38;5;241m=\u001b[39m {{\u001b[38;5;124m\"\u001b[39m\u001b[38;5;124ma\u001b[39m\u001b[38;5;124m\"\u001b[39m:\u001b[38;5;241m1\u001b[39m,\u001b[38;5;124m\"\u001b[39m\u001b[38;5;124mb\u001b[39m\u001b[38;5;124m\"\u001b[39m:\u001b[38;5;241m2\u001b[39m}}\n\u001b[0;32m      2\u001b[0m \u001b[38;5;28mprint\u001b[39m(x6)\n",
      "\u001b[1;31mTypeError\u001b[0m: unhashable type: 'dict'"
     ]
    }
   ],
   "source": [
    "x6 = {{\"a\":1,\"b\":2}}\n",
    "print(x6)"
   ]
  },
  {
   "cell_type": "code",
   "execution_count": 16,
   "id": "32ff7c8f",
   "metadata": {},
   "outputs": [
    {
     "ename": "TypeError",
     "evalue": "unhashable type: 'set'",
     "output_type": "error",
     "traceback": [
      "\u001b[1;31m---------------------------------------------------------------------------\u001b[0m",
      "\u001b[1;31mTypeError\u001b[0m                                 Traceback (most recent call last)",
      "Input \u001b[1;32mIn [16]\u001b[0m, in \u001b[0;36m<cell line: 1>\u001b[1;34m()\u001b[0m\n\u001b[1;32m----> 1\u001b[0m a \u001b[38;5;241m=\u001b[39m {{\u001b[38;5;241m1\u001b[39m,\u001b[38;5;241m2\u001b[39m,\u001b[38;5;241m3\u001b[39m},{\u001b[38;5;241m4\u001b[39m,\u001b[38;5;241m5\u001b[39m,\u001b[38;5;241m6\u001b[39m}}\n\u001b[0;32m      2\u001b[0m \u001b[38;5;28mprint\u001b[39m(a)\n",
      "\u001b[1;31mTypeError\u001b[0m: unhashable type: 'set'"
     ]
    }
   ],
   "source": [
    "a = {{1,2,3},{4,5,6}}\n",
    "print(a)"
   ]
  },
  {
   "cell_type": "markdown",
   "id": "6a6ff427",
   "metadata": {},
   "source": [
    "# The Set() Constructor"
   ]
  },
  {
   "cell_type": "code",
   "execution_count": 17,
   "id": "1c45c1df",
   "metadata": {},
   "outputs": [
    {
     "name": "stdout",
     "output_type": "stream",
     "text": [
      "{'gama', 'alpha', 'beta'}\n",
      "<class 'set'>\n"
     ]
    }
   ],
   "source": [
    "thisset = set((\"alpha\",\"beta\",\"gama\"))\n",
    "print(thisset)\n",
    "print(type(thisset))"
   ]
  },
  {
   "cell_type": "markdown",
   "id": "48d2b20a",
   "metadata": {},
   "source": [
    "# Creating a Empty Set"
   ]
  },
  {
   "cell_type": "code",
   "execution_count": 18,
   "id": "1f4fe926",
   "metadata": {},
   "outputs": [
    {
     "name": "stdout",
     "output_type": "stream",
     "text": [
      "{}\n",
      "<class 'dict'>\n"
     ]
    }
   ],
   "source": [
    "a = {}\n",
    "print(a)\n",
    "print(type(a))"
   ]
  },
  {
   "cell_type": "code",
   "execution_count": 19,
   "id": "8bf4c2f0",
   "metadata": {},
   "outputs": [
    {
     "name": "stdout",
     "output_type": "stream",
     "text": [
      "set()\n",
      "<class 'set'>\n"
     ]
    }
   ],
   "source": [
    "empty = set()\n",
    "print(empty)\n",
    "print(type(empty))"
   ]
  },
  {
   "cell_type": "markdown",
   "id": "643d0a74",
   "metadata": {},
   "source": [
    "# Access Items"
   ]
  },
  {
   "cell_type": "code",
   "execution_count": 26,
   "id": "39e2689c",
   "metadata": {},
   "outputs": [
    {
     "name": "stdout",
     "output_type": "stream",
     "text": [
      "a\n",
      "d\n",
      "b\n",
      "c\n"
     ]
    }
   ],
   "source": [
    "a = {\"a\",\"b\",\"c\",\"d\"}\n",
    "\n",
    "for x in a:\n",
    "    print(x)"
   ]
  },
  {
   "cell_type": "markdown",
   "id": "7283e7a9",
   "metadata": {},
   "source": [
    "# Check if \"items\" is present in the set "
   ]
  },
  {
   "cell_type": "code",
   "execution_count": 30,
   "id": "93ac87d5",
   "metadata": {},
   "outputs": [
    {
     "name": "stdout",
     "output_type": "stream",
     "text": [
      "True\n"
     ]
    }
   ],
   "source": [
    "a = {\"Data\", \"python\", \"code\"}\n",
    "\n",
    "print(\"code\"in a)"
   ]
  },
  {
   "cell_type": "code",
   "execution_count": 31,
   "id": "0b3df636",
   "metadata": {},
   "outputs": [
    {
     "name": "stdout",
     "output_type": "stream",
     "text": [
      "False\n"
     ]
    }
   ],
   "source": [
    "a = {\"Data\", \"python\", \"code\"}\n",
    "\n",
    "print(\"Analyst\"in a)"
   ]
  },
  {
   "cell_type": "markdown",
   "id": "5d684981",
   "metadata": {},
   "source": [
    "# Add Items"
   ]
  },
  {
   "cell_type": "code",
   "execution_count": 32,
   "id": "51c7ac03",
   "metadata": {},
   "outputs": [
    {
     "name": "stdout",
     "output_type": "stream",
     "text": [
      "{'a', 100, 'b', 'c'}\n"
     ]
    }
   ],
   "source": [
    "a = {'a','b','c'}\n",
    "a.add(100)\n",
    "print(a)"
   ]
  },
  {
   "cell_type": "code",
   "execution_count": 33,
   "id": "e1a5d52b",
   "metadata": {},
   "outputs": [
    {
     "name": "stdout",
     "output_type": "stream",
     "text": [
      "{'code', 20, 'data', 10, 30, 'python'}\n"
     ]
    }
   ],
   "source": [
    "x = {\"data\",\"python\",\"code\"} #add function\n",
    "y = {10,20,30}\n",
    "x.update(y)\n",
    "print(x)"
   ]
  },
  {
   "cell_type": "markdown",
   "id": "7a3f2bcc",
   "metadata": {},
   "source": [
    "# Remove set items"
   ]
  },
  {
   "cell_type": "code",
   "execution_count": 41,
   "id": "d1d4d3f7",
   "metadata": {},
   "outputs": [
    {
     "name": "stdout",
     "output_type": "stream",
     "text": [
      "{'code', 'data', 10, 30}\n"
     ]
    }
   ],
   "source": [
    "n = {'code', 20, 'data', 10, 30, 'python'} #remove function\n",
    "n.remove(20)\n",
    "n.remove(\"python\")\n",
    "print(n)\n"
   ]
  },
  {
   "cell_type": "code",
   "execution_count": 42,
   "id": "39cb0fe3",
   "metadata": {},
   "outputs": [
    {
     "name": "stdout",
     "output_type": "stream",
     "text": [
      "{20, 'data', 10, 30, 'python'}\n"
     ]
    }
   ],
   "source": [
    "m = {'code', 20, 'data', 10, 30, 'python'}\n",
    "x = m.pop()\n",
    "print(m)"
   ]
  },
  {
   "cell_type": "code",
   "execution_count": 43,
   "id": "93fe0259",
   "metadata": {},
   "outputs": [
    {
     "name": "stdout",
     "output_type": "stream",
     "text": [
      "set()\n"
     ]
    }
   ],
   "source": [
    "k = n = {'code', 20, 'data', 10, 30, 'python'}\n",
    "k.clear()\n",
    "print(k)"
   ]
  },
  {
   "cell_type": "code",
   "execution_count": 44,
   "id": "74079c21",
   "metadata": {},
   "outputs": [
    {
     "ename": "NameError",
     "evalue": "name 'k' is not defined",
     "output_type": "error",
     "traceback": [
      "\u001b[1;31m---------------------------------------------------------------------------\u001b[0m",
      "\u001b[1;31mNameError\u001b[0m                                 Traceback (most recent call last)",
      "Input \u001b[1;32mIn [44]\u001b[0m, in \u001b[0;36m<cell line: 3>\u001b[1;34m()\u001b[0m\n\u001b[0;32m      1\u001b[0m k \u001b[38;5;241m=\u001b[39m n \u001b[38;5;241m=\u001b[39m {\u001b[38;5;124m'\u001b[39m\u001b[38;5;124mcode\u001b[39m\u001b[38;5;124m'\u001b[39m, \u001b[38;5;241m20\u001b[39m, \u001b[38;5;124m'\u001b[39m\u001b[38;5;124mdata\u001b[39m\u001b[38;5;124m'\u001b[39m, \u001b[38;5;241m10\u001b[39m, \u001b[38;5;241m30\u001b[39m, \u001b[38;5;124m'\u001b[39m\u001b[38;5;124mpython\u001b[39m\u001b[38;5;124m'\u001b[39m}\n\u001b[0;32m      2\u001b[0m \u001b[38;5;28;01mdel\u001b[39;00m k \n\u001b[1;32m----> 3\u001b[0m \u001b[38;5;28mprint\u001b[39m(\u001b[43mk\u001b[49m)\n",
      "\u001b[1;31mNameError\u001b[0m: name 'k' is not defined"
     ]
    }
   ],
   "source": [
    "k = n = {'code', 20, 'data', 10, 30, 'python'}\n",
    "del k \n",
    "print(k)"
   ]
  },
  {
   "cell_type": "markdown",
   "id": "a5e411c1",
   "metadata": {},
   "source": [
    "# Join two Sets"
   ]
  },
  {
   "cell_type": "code",
   "execution_count": 45,
   "id": "5e046e21",
   "metadata": {},
   "outputs": [
    {
     "name": "stdout",
     "output_type": "stream",
     "text": [
      "{1, 2, 3, 'a', 'b'}\n"
     ]
    }
   ],
   "source": [
    "x = {\"a\",\"b\"}\n",
    "y = {1,2,3}\n",
    "z = x.union(y)\n",
    "print(z)"
   ]
  },
  {
   "cell_type": "markdown",
   "id": "497f3c18",
   "metadata": {},
   "source": [
    "# write a python program to find the max and min values "
   ]
  },
  {
   "cell_type": "code",
   "execution_count": 48,
   "id": "78ad31d0",
   "metadata": {},
   "outputs": [
    {
     "name": "stdout",
     "output_type": "stream",
     "text": [
      "original set elements\n",
      "{3, 67, 5, 89, 10, 12}\n",
      "Maximum value of the set is\n",
      "89\n",
      "Minimum value of the set is\n",
      "3\n"
     ]
    }
   ],
   "source": [
    "setn = {5,10,67,89,12,3}\n",
    "print(\"original set elements\")\n",
    "print(setn)\n",
    "print(\"Maximum value of the set is\")\n",
    "print(max(setn))\n",
    "print(\"Minimum value of the set is\")\n",
    "print(min (setn))"
   ]
  },
  {
   "cell_type": "markdown",
   "id": "50999022",
   "metadata": {},
   "source": [
    "# Return a new set of iidentical items from two sets"
   ]
  },
  {
   "cell_type": "code",
   "execution_count": 52,
   "id": "5fb40a3a",
   "metadata": {},
   "outputs": [
    {
     "name": "stdout",
     "output_type": "stream",
     "text": [
      "{50, 10, 20}\n"
     ]
    }
   ],
   "source": [
    "set1 = {10,20,30,40,50}\n",
    "set2 = {25,35,45,55,65,50,10,20}\n",
    "\n",
    "print(set1.intersection(set2))"
   ]
  },
  {
   "cell_type": "markdown",
   "id": "0ccc7bfc",
   "metadata": {},
   "source": [
    "# Assignment"
   ]
  },
  {
   "cell_type": "code",
   "execution_count": 58,
   "id": "b75720e4",
   "metadata": {},
   "outputs": [
    {
     "name": "stdout",
     "output_type": "stream",
     "text": [
      "7\n",
      "maximum value of the set is \n",
      "7\n",
      "minimum value of the set is \n",
      "1\n",
      "[{1, 2, 3, 4, 5, 6, 7}]\n"
     ]
    },
    {
     "ename": "TypeError",
     "evalue": "unhashable type: 'set'",
     "output_type": "error",
     "traceback": [
      "\u001b[1;31m---------------------------------------------------------------------------\u001b[0m",
      "\u001b[1;31mTypeError\u001b[0m                                 Traceback (most recent call last)",
      "Input \u001b[1;32mIn [58]\u001b[0m, in \u001b[0;36m<cell line: 8>\u001b[1;34m()\u001b[0m\n\u001b[0;32m      6\u001b[0m \u001b[38;5;28mprint\u001b[39m(\u001b[38;5;28mmin\u001b[39m(x))\n\u001b[0;32m      7\u001b[0m \u001b[38;5;28mprint\u001b[39m([x])\n\u001b[1;32m----> 8\u001b[0m \u001b[38;5;28mprint\u001b[39m({x})\n\u001b[0;32m      9\u001b[0m \u001b[38;5;28mprint\u001b[39m(\u001b[38;5;124m\"\u001b[39m\u001b[38;5;124mx\u001b[39m\u001b[38;5;124m\"\u001b[39m)\n",
      "\u001b[1;31mTypeError\u001b[0m: unhashable type: 'set'"
     ]
    }
   ],
   "source": [
    "x = {1,2,3,4,5,6,7}\n",
    "print(len(x))\n",
    "print(\"maximum value of the set is \")\n",
    "print(max(x))\n",
    "print(\"minimum value of the set is \")\n",
    "print(min(x))\n",
    "print([x])\n",
    "print({x})\n",
    "print(\"x\")\n",
    "\n"
   ]
  },
  {
   "cell_type": "code",
   "execution_count": null,
   "id": "a2dffc95",
   "metadata": {},
   "outputs": [],
   "source": []
  }
 ],
 "metadata": {
  "kernelspec": {
   "display_name": "Python 3 (ipykernel)",
   "language": "python",
   "name": "python3"
  },
  "language_info": {
   "codemirror_mode": {
    "name": "ipython",
    "version": 3
   },
   "file_extension": ".py",
   "mimetype": "text/x-python",
   "name": "python",
   "nbconvert_exporter": "python",
   "pygments_lexer": "ipython3",
   "version": "3.9.12"
  }
 },
 "nbformat": 4,
 "nbformat_minor": 5
}
