{
 "cells": [
  {
   "cell_type": "markdown",
   "id": "8d4233ca",
   "metadata": {},
   "source": [
    "# Day 02"
   ]
  },
  {
   "cell_type": "markdown",
   "id": "af967cb9",
   "metadata": {},
   "source": [
    "# Variables and Operators"
   ]
  },
  {
   "cell_type": "code",
   "execution_count": 1,
   "id": "b638da7f",
   "metadata": {},
   "outputs": [
    {
     "name": "stdout",
     "output_type": "stream",
     "text": [
      "1\n"
     ]
    }
   ],
   "source": [
    "a = 1\n",
    "print(a)"
   ]
  },
  {
   "cell_type": "code",
   "execution_count": 6,
   "id": "557ff788",
   "metadata": {},
   "outputs": [
    {
     "name": "stdout",
     "output_type": "stream",
     "text": [
      "2 2.3\n"
     ]
    }
   ],
   "source": [
    "b = 2\n",
    "c = 2.3 #float value\n",
    "print(b,c)"
   ]
  },
  {
   "cell_type": "code",
   "execution_count": 5,
   "id": "108cbb66",
   "metadata": {},
   "outputs": [
    {
     "name": "stdout",
     "output_type": "stream",
     "text": [
      " Apple \n"
     ]
    }
   ],
   "source": [
    "x = \" Apple \" #string\n",
    "print(x)"
   ]
  },
  {
   "cell_type": "code",
   "execution_count": 7,
   "id": "f59accd2",
   "metadata": {},
   "outputs": [
    {
     "name": "stdout",
     "output_type": "stream",
     "text": [
      "23\n"
     ]
    }
   ],
   "source": [
    "Student = 23\n",
    "print(Student)"
   ]
  },
  {
   "cell_type": "code",
   "execution_count": 1,
   "id": "6bf57652",
   "metadata": {},
   "outputs": [
    {
     "ename": "SyntaxError",
     "evalue": "invalid syntax (1551044377.py, line 1)",
     "output_type": "error",
     "traceback": [
      "\u001b[1;36m  Input \u001b[1;32mIn [1]\u001b[1;36m\u001b[0m\n\u001b[1;33m    1@& = 2\u001b[0m\n\u001b[1;37m      ^\u001b[0m\n\u001b[1;31mSyntaxError\u001b[0m\u001b[1;31m:\u001b[0m invalid syntax\n"
     ]
    }
   ],
   "source": [
    "1@& = 2\n",
    "print(1@&)"
   ]
  },
  {
   "cell_type": "code",
   "execution_count": 11,
   "id": "ce1a946b",
   "metadata": {},
   "outputs": [
    {
     "name": "stdout",
     "output_type": "stream",
     "text": [
      "25\n"
     ]
    }
   ],
   "source": [
    "student123 = 25\n",
    "print(student123)"
   ]
  },
  {
   "cell_type": "code",
   "execution_count": 45,
   "id": "33b4f129",
   "metadata": {},
   "outputs": [
    {
     "name": "stdout",
     "output_type": "stream",
     "text": [
      "5\n"
     ]
    }
   ],
   "source": [
    "a = 5\n",
    "print(a) #case senstive , and it will show us a error "
   ]
  },
  {
   "cell_type": "code",
   "execution_count": 13,
   "id": "75768627",
   "metadata": {},
   "outputs": [
    {
     "name": "stdout",
     "output_type": "stream",
     "text": [
      "5\n"
     ]
    }
   ],
   "source": [
    "_a = 5\n",
    "print(_a)"
   ]
  },
  {
   "cell_type": "markdown",
   "id": "7b89107c",
   "metadata": {},
   "source": [
    "# Many Value to Multiple Variables "
   ]
  },
  {
   "cell_type": "code",
   "execution_count": 16,
   "id": "cd43ef71",
   "metadata": {},
   "outputs": [
    {
     "name": "stdout",
     "output_type": "stream",
     "text": [
      "orange banana Cherry\n"
     ]
    }
   ],
   "source": [
    "x,y,z = \"orange\", \"banana\",\"Cherry\"\n",
    "print(x,y,z)"
   ]
  },
  {
   "cell_type": "code",
   "execution_count": 17,
   "id": "566600d4",
   "metadata": {},
   "outputs": [
    {
     "name": "stdout",
     "output_type": "stream",
     "text": [
      "orange\n",
      "orange\n",
      "orange\n"
     ]
    }
   ],
   "source": [
    "x= y =z =\"orange\"\n",
    "print(x)\n",
    "print(y)\n",
    "print(z)"
   ]
  },
  {
   "cell_type": "markdown",
   "id": "8f0b4846",
   "metadata": {},
   "source": [
    "# Python Output Variables"
   ]
  },
  {
   "cell_type": "code",
   "execution_count": 18,
   "id": "a8b9beaa",
   "metadata": {},
   "outputs": [
    {
     "name": "stdout",
     "output_type": "stream",
     "text": [
      "python is amazing\n",
      "\n",
      "python\n",
      "is\n",
      "amazing\n"
     ]
    }
   ],
   "source": [
    "x = \"python\"\n",
    "y = \"is\"\n",
    "z = \"amazing\"\n",
    "print(x,y,z)\n",
    "\n",
    "print()\n",
    "print(x)\n",
    "print(y)\n",
    "print(z)"
   ]
  },
  {
   "cell_type": "markdown",
   "id": "9ca466b0",
   "metadata": {},
   "source": [
    "# Data Type"
   ]
  },
  {
   "cell_type": "code",
   "execution_count": 1,
   "id": "c6488b58",
   "metadata": {},
   "outputs": [
    {
     "name": "stdout",
     "output_type": "stream",
     "text": [
      "2\n",
      "<class 'int'>\n"
     ]
    }
   ],
   "source": [
    "x = 2\n",
    "print(x)\n",
    "print(type(x))"
   ]
  },
  {
   "cell_type": "code",
   "execution_count": 2,
   "id": "732474db",
   "metadata": {},
   "outputs": [
    {
     "name": "stdout",
     "output_type": "stream",
     "text": [
      "4.5\n",
      "<class 'float'>\n"
     ]
    }
   ],
   "source": [
    "y = 4.5\n",
    "print(y)\n",
    "print(type(y))"
   ]
  },
  {
   "cell_type": "code",
   "execution_count": 3,
   "id": "c2aa7e92",
   "metadata": {},
   "outputs": [
    {
     "name": "stdout",
     "output_type": "stream",
     "text": [
      "(2+5j)\n",
      "<class 'complex'>\n"
     ]
    }
   ],
   "source": [
    "z = 2+5j\n",
    "print(z)\n",
    "print(type(z))"
   ]
  },
  {
   "cell_type": "code",
   "execution_count": 4,
   "id": "6e981295",
   "metadata": {},
   "outputs": [
    {
     "name": "stdout",
     "output_type": "stream",
     "text": [
      "This is the day 2 of python class\n",
      "<class 'str'>\n"
     ]
    }
   ],
   "source": [
    "a = \"This is the day 2 of python class\"\n",
    "print(a)\n",
    "print(type(a))"
   ]
  },
  {
   "cell_type": "code",
   "execution_count": 5,
   "id": "67c70128",
   "metadata": {},
   "outputs": [
    {
     "name": "stdout",
     "output_type": "stream",
     "text": [
      "[1, 2, 3, 4, 5, 6, 7, 8, 9, 10]\n",
      "<class 'list'>\n"
     ]
    }
   ],
   "source": [
    "b = [1,2,3,4,5,6,7,8,9,10]\n",
    "print(b)\n",
    "print(type(b))"
   ]
  },
  {
   "cell_type": "code",
   "execution_count": 6,
   "id": "0ee23089",
   "metadata": {},
   "outputs": [
    {
     "name": "stdout",
     "output_type": "stream",
     "text": [
      "(1, 2, 3, 4, 5, 6, 7, 8, 9, 10)\n",
      "<class 'tuple'>\n"
     ]
    }
   ],
   "source": [
    "c = (1,2,3,4,5,6,7,8,9,10)\n",
    "print(c)\n",
    "print(type(c))"
   ]
  },
  {
   "cell_type": "code",
   "execution_count": 7,
   "id": "1cbf6961",
   "metadata": {},
   "outputs": [
    {
     "name": "stdout",
     "output_type": "stream",
     "text": [
      "Variable   Type       Data/Info\n",
      "-------------------------------\n",
      "a          str        This is the day 2 of python class\n",
      "b          list       n=10\n",
      "c          tuple      n=10\n",
      "x          int        2\n",
      "y          float      4.5\n",
      "z          complex    (2+5j)\n"
     ]
    }
   ],
   "source": [
    "%whos"
   ]
  },
  {
   "cell_type": "markdown",
   "id": "93c831a2",
   "metadata": {},
   "source": [
    "# Operators in Python"
   ]
  },
  {
   "cell_type": "code",
   "execution_count": 8,
   "id": "d20ef801",
   "metadata": {},
   "outputs": [
    {
     "name": "stdout",
     "output_type": "stream",
     "text": [
      "8\n"
     ]
    }
   ],
   "source": [
    "a = 5\n",
    "b = 3\n",
    "print(a+b)"
   ]
  },
  {
   "cell_type": "code",
   "execution_count": 9,
   "id": "3fe6075c",
   "metadata": {},
   "outputs": [
    {
     "name": "stdout",
     "output_type": "stream",
     "text": [
      "10.6\n"
     ]
    }
   ],
   "source": [
    "a = 5\n",
    "b = 5.6\n",
    "print(a+b)"
   ]
  },
  {
   "cell_type": "code",
   "execution_count": 10,
   "id": "c41e66b1",
   "metadata": {},
   "outputs": [
    {
     "name": "stdout",
     "output_type": "stream",
     "text": [
      "(9+3j)\n"
     ]
    }
   ],
   "source": [
    "a = 5+3j\n",
    "b = 4\n",
    "print(a+b)"
   ]
  },
  {
   "cell_type": "code",
   "execution_count": 13,
   "id": "128bceeb",
   "metadata": {},
   "outputs": [
    {
     "name": "stdout",
     "output_type": "stream",
     "text": [
      "hello Students\n"
     ]
    }
   ],
   "source": [
    "a = \"hello\"\n",
    "b = \"Students\"\n",
    "print(a+\" \" +b)"
   ]
  },
  {
   "cell_type": "markdown",
   "id": "a26bda80",
   "metadata": {},
   "source": [
    "\n",
    "# subtraction"
   ]
  },
  {
   "cell_type": "code",
   "execution_count": 14,
   "id": "3547127d",
   "metadata": {},
   "outputs": [
    {
     "name": "stdout",
     "output_type": "stream",
     "text": [
      "2\n"
     ]
    }
   ],
   "source": [
    "a = 5\n",
    "b = 3\n",
    "print(a-b)"
   ]
  },
  {
   "cell_type": "code",
   "execution_count": 15,
   "id": "782524fe",
   "metadata": {},
   "outputs": [
    {
     "name": "stdout",
     "output_type": "stream",
     "text": [
      "1.3600000000000003\n"
     ]
    }
   ],
   "source": [
    "a = 5.67\n",
    "b = 4.31\n",
    "print(a-b)"
   ]
  },
  {
   "cell_type": "code",
   "execution_count": 16,
   "id": "7960fec8",
   "metadata": {},
   "outputs": [
    {
     "name": "stdout",
     "output_type": "stream",
     "text": [
      "(2+5j)\n"
     ]
    }
   ],
   "source": [
    "a = 5+5j\n",
    "b = 3\n",
    "print(a-b)"
   ]
  },
  {
   "cell_type": "code",
   "execution_count": 3,
   "id": "f1d82aa4",
   "metadata": {},
   "outputs": [
    {
     "ename": "TypeError",
     "evalue": "unsupported operand type(s) for -: 'str' and 'str'",
     "output_type": "error",
     "traceback": [
      "\u001b[1;31m---------------------------------------------------------------------------\u001b[0m",
      "\u001b[1;31mTypeError\u001b[0m                                 Traceback (most recent call last)",
      "Input \u001b[1;32mIn [3]\u001b[0m, in \u001b[0;36m<cell line: 3>\u001b[1;34m()\u001b[0m\n\u001b[0;32m      1\u001b[0m a \u001b[38;5;241m=\u001b[39m \u001b[38;5;124m\"\u001b[39m\u001b[38;5;124mhello\u001b[39m\u001b[38;5;124m\"\u001b[39m\n\u001b[0;32m      2\u001b[0m b \u001b[38;5;241m=\u001b[39m \u001b[38;5;124m\"\u001b[39m\u001b[38;5;124m Students \u001b[39m\u001b[38;5;124m\"\u001b[39m\n\u001b[1;32m----> 3\u001b[0m \u001b[38;5;28mprint\u001b[39m(\u001b[43ma\u001b[49m\u001b[38;5;241;43m-\u001b[39;49m\u001b[38;5;124;43m\"\u001b[39;49m\u001b[38;5;124;43m\"\u001b[39;49m\u001b[38;5;241m-\u001b[39mb)\n",
      "\u001b[1;31mTypeError\u001b[0m: unsupported operand type(s) for -: 'str' and 'str'"
     ]
    }
   ],
   "source": [
    "a = \"hello\"\n",
    "b = \" Students \"\n",
    "print(a-\"\"-b) #it will give you a error "
   ]
  },
  {
   "cell_type": "markdown",
   "id": "a5143aa2",
   "metadata": {},
   "source": [
    "# Multiplication"
   ]
  },
  {
   "cell_type": "code",
   "execution_count": 20,
   "id": "6c283d3d",
   "metadata": {},
   "outputs": [
    {
     "name": "stdout",
     "output_type": "stream",
     "text": [
      "2800\n"
     ]
    }
   ],
   "source": [
    "a = 50\n",
    "b = 56\n",
    "print(a*b)"
   ]
  },
  {
   "cell_type": "code",
   "execution_count": 21,
   "id": "e6140067",
   "metadata": {},
   "outputs": [
    {
     "name": "stdout",
     "output_type": "stream",
     "text": [
      "31.979999999999997\n"
     ]
    }
   ],
   "source": [
    "a = 7.8\n",
    "b = 4.1\n",
    "print(a*b)"
   ]
  },
  {
   "cell_type": "markdown",
   "id": "48b01bbb",
   "metadata": {},
   "source": [
    "# Divison"
   ]
  },
  {
   "cell_type": "code",
   "execution_count": 22,
   "id": "0046de3b",
   "metadata": {},
   "outputs": [
    {
     "name": "stdout",
     "output_type": "stream",
     "text": [
      "2.0\n"
     ]
    }
   ],
   "source": [
    "a = 10\n",
    "b = 5\n",
    "print(a/b)"
   ]
  },
  {
   "cell_type": "markdown",
   "id": "af772877",
   "metadata": {},
   "source": [
    "# Modulous "
   ]
  },
  {
   "cell_type": "code",
   "execution_count": 23,
   "id": "c1cd8162",
   "metadata": {},
   "outputs": [
    {
     "name": "stdout",
     "output_type": "stream",
     "text": [
      "1\n"
     ]
    }
   ],
   "source": [
    "a = 19\n",
    "b = 3\n",
    "print(a%b)"
   ]
  },
  {
   "cell_type": "code",
   "execution_count": 24,
   "id": "5ab2da26",
   "metadata": {},
   "outputs": [
    {
     "name": "stdout",
     "output_type": "stream",
     "text": [
      "0\n"
     ]
    }
   ],
   "source": [
    "a = 12\n",
    "b = 4\n",
    "print(a%b)"
   ]
  },
  {
   "cell_type": "markdown",
   "id": "215c21d6",
   "metadata": {},
   "source": [
    "# Exponent"
   ]
  },
  {
   "cell_type": "code",
   "execution_count": 4,
   "id": "5144a6a8",
   "metadata": {},
   "outputs": [
    {
     "name": "stdout",
     "output_type": "stream",
     "text": [
      "64\n"
     ]
    }
   ],
   "source": [
    "a = 2\n",
    "print(a**6)"
   ]
  },
  {
   "cell_type": "code",
   "execution_count": 32,
   "id": "c571d568",
   "metadata": {},
   "outputs": [
    {
     "name": "stdout",
     "output_type": "stream",
     "text": [
      "2.990489165920469e+196\n"
     ]
    }
   ],
   "source": [
    "a = ((859*78)+(78.256/89)+(856**67)+(145698-7526))\n",
    "print(a)"
   ]
  },
  {
   "cell_type": "code",
   "execution_count": 43,
   "id": "06c9f218",
   "metadata": {},
   "outputs": [
    {
     "name": "stdout",
     "output_type": "stream",
     "text": [
      "False\n"
     ]
    }
   ],
   "source": [
    "a = True\n",
    "b = False\n",
    "print(not(a) )"
   ]
  },
  {
   "cell_type": "code",
   "execution_count": 44,
   "id": "b6728a61",
   "metadata": {},
   "outputs": [
    {
     "name": "stdout",
     "output_type": "stream",
     "text": [
      "20637005.183908045\n"
     ]
    }
   ],
   "source": [
    "a = ((8922*2852)+(7821*222)-(25566*256)+(8281/87))\n",
    "print(a)"
   ]
  },
  {
   "cell_type": "code",
   "execution_count": null,
   "id": "ff14d368",
   "metadata": {},
   "outputs": [],
   "source": []
  }
 ],
 "metadata": {
  "kernelspec": {
   "display_name": "Python 3 (ipykernel)",
   "language": "python",
   "name": "python3"
  },
  "language_info": {
   "codemirror_mode": {
    "name": "ipython",
    "version": 3
   },
   "file_extension": ".py",
   "mimetype": "text/x-python",
   "name": "python",
   "nbconvert_exporter": "python",
   "pygments_lexer": "ipython3",
   "version": "3.9.12"
  }
 },
 "nbformat": 4,
 "nbformat_minor": 5
}
