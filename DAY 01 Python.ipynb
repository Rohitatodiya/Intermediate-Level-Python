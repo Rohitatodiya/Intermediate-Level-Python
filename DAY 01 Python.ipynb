{
 "cells": [
  {
   "cell_type": "markdown",
   "id": "293ecc14",
   "metadata": {},
   "source": [
    "# Day 1 = This is first class of Python\n",
    "\n"
   ]
  },
  {
   "cell_type": "markdown",
   "id": "e43cc57d",
   "metadata": {},
   "source": [
    "we are going to write our first program"
   ]
  },
  {
   "cell_type": "code",
   "execution_count": 1,
   "id": "dfcf16d0",
   "metadata": {},
   "outputs": [
    {
     "name": "stdout",
     "output_type": "stream",
     "text": [
      "Hello world This is an amazing python class\n"
     ]
    }
   ],
   "source": [
    "print(\"Hello world This is an amazing python class\")"
   ]
  },
  {
   "cell_type": "code",
   "execution_count": 7,
   "id": "4bafcdd0",
   "metadata": {},
   "outputs": [
    {
     "name": "stdout",
     "output_type": "stream",
     "text": [
      "5\n"
     ]
    }
   ],
   "source": [
    "print(2+3)"
   ]
  },
  {
   "cell_type": "markdown",
   "id": "30279e3e",
   "metadata": {},
   "source": [
    "# Python Comment"
   ]
  },
  {
   "cell_type": "code",
   "execution_count": 8,
   "id": "71bc863d",
   "metadata": {},
   "outputs": [
    {
     "name": "stdout",
     "output_type": "stream",
     "text": [
      "Hello world\n"
     ]
    }
   ],
   "source": [
    "#this is comment\n",
    "print(\"Hello world\")"
   ]
  },
  {
   "cell_type": "code",
   "execution_count": 9,
   "id": "2c29ecc1",
   "metadata": {},
   "outputs": [
    {
     "name": "stdout",
     "output_type": "stream",
     "text": [
      "Hello world\n"
     ]
    }
   ],
   "source": [
    "\n",
    "print(\"Hello world\")#this is comment"
   ]
  },
  {
   "cell_type": "markdown",
   "id": "f76ed076",
   "metadata": {},
   "source": [
    "# Multiline Comment"
   ]
  },
  {
   "cell_type": "code",
   "execution_count": 10,
   "id": "90e46193",
   "metadata": {},
   "outputs": [
    {
     "name": "stdout",
     "output_type": "stream",
     "text": [
      "5\n"
     ]
    }
   ],
   "source": [
    "#this is comment 1\n",
    "#this is comment 2\n",
    "#this is comment 3\n",
    "print(2+3)\n"
   ]
  },
  {
   "cell_type": "code",
   "execution_count": 11,
   "id": "80feb3d2",
   "metadata": {},
   "outputs": [
    {
     "name": "stdout",
     "output_type": "stream",
     "text": [
      "6\n"
     ]
    }
   ],
   "source": [
    "\"\"\" this is our first python class \"\"\"\n",
    "print(2+4)"
   ]
  },
  {
   "cell_type": "code",
   "execution_count": null,
   "id": "41939045",
   "metadata": {},
   "outputs": [],
   "source": []
  }
 ],
 "metadata": {
  "kernelspec": {
   "display_name": "Python 3 (ipykernel)",
   "language": "python",
   "name": "python3"
  },
  "language_info": {
   "codemirror_mode": {
    "name": "ipython",
    "version": 3
   },
   "file_extension": ".py",
   "mimetype": "text/x-python",
   "name": "python",
   "nbconvert_exporter": "python",
   "pygments_lexer": "ipython3",
   "version": "3.9.12"
  }
 },
 "nbformat": 4,
 "nbformat_minor": 5
}
