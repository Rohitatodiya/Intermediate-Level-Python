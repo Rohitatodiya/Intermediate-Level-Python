{
 "cells": [
  {
   "cell_type": "markdown",
   "id": "20beaa6f",
   "metadata": {},
   "source": [
    "# Day 07 "
   ]
  },
  {
   "cell_type": "markdown",
   "id": "e9c7bca5",
   "metadata": {},
   "source": [
    "# String in Python"
   ]
  },
  {
   "cell_type": "markdown",
   "id": "dd1c1723",
   "metadata": {},
   "source": [
    "# Creating a String in Python"
   ]
  },
  {
   "cell_type": "code",
   "execution_count": 2,
   "id": "b9a563ff",
   "metadata": {},
   "outputs": [
    {
     "name": "stdout",
     "output_type": "stream",
     "text": [
      "Hello\n"
     ]
    }
   ],
   "source": [
    "a = 'Hello'\n",
    "print(a)"
   ]
  },
  {
   "cell_type": "code",
   "execution_count": 4,
   "id": "60ba51f6",
   "metadata": {},
   "outputs": [
    {
     "name": "stdout",
     "output_type": "stream",
     "text": [
      "My Name is Rohit \n",
      "<class 'str'>\n"
     ]
    }
   ],
   "source": [
    "b = \"My Name is Rohit \"\n",
    "print(b)\n",
    "print(type(b))"
   ]
  },
  {
   "cell_type": "markdown",
   "id": "bf1aab96",
   "metadata": {},
   "source": [
    "# Multiline Strings"
   ]
  },
  {
   "cell_type": "code",
   "execution_count": 5,
   "id": "3f5c547b",
   "metadata": {},
   "outputs": [
    {
     "name": "stdout",
     "output_type": "stream",
     "text": [
      " India with a belting of Pakistan and that envious World Cup record in ODIs continues.\n",
      "The chase of 192 was never going to unsettle this powerful Indian batting lineup and skipper \n",
      "Rohit Sharma made it even more easier with a superb innings.\n",
      "His timing was spot-on and he took down the Pakistani pacers with his strokeplay. \n",
      "A pull off Haris Rauf which soared over deep backward square leg the highlight.\n",
      "Rohit may not have got consecutive World Cup 100s against Pakistan \n",
      "but his innings ensured the likes of Shreyas Iyer took their time \n",
      "eye and India's No.4 helped himself to a morale-boosting unbeaten 53.\n",
      "Pakistan did not have the target to bowl at. \n",
      "They will wonder how from such a strong position at 155/2 in the 30th over,\n",
      "they allowed themselves to capitulate to 191 all out.\n",
      "That's where the game was lost effectively. India pounced on that Babar wicket and made the contest their own after that.\n",
      "With this win, India go top of the table too. \n",
      "In hindsight, and with the way the pitch played around the 25th over in the chase, \n",
      "a score of 280 was a good one on this. \n",
      "But Pakistan were well short of that. \n",
      "Stay tuned for the presentation and other stuff... \n"
     ]
    }
   ],
   "source": [
    "c = \"\"\" India with a belting of Pakistan and that envious World Cup record in ODIs continues.\n",
    "The chase of 192 was never going to unsettle this powerful Indian batting lineup and skipper \n",
    "Rohit Sharma made it even more easier with a superb innings.\n",
    "His timing was spot-on and he took down the Pakistani pacers with his strokeplay. \n",
    "A pull off Haris Rauf which soared over deep backward square leg the highlight.\n",
    "Rohit may not have got consecutive World Cup 100s against Pakistan \n",
    "but his innings ensured the likes of Shreyas Iyer took their time \n",
    "eye and India's No.4 helped himself to a morale-boosting unbeaten 53.\n",
    "Pakistan did not have the target to bowl at. \n",
    "They will wonder how from such a strong position at 155/2 in the 30th over,\n",
    "they allowed themselves to capitulate to 191 all out.\n",
    "That's where the game was lost effectively. India pounced on that Babar wicket and made the contest their own after that.\n",
    "With this win, India go top of the table too. \n",
    "In hindsight, and with the way the pitch played around the 25th over in the chase, \n",
    "a score of 280 was a good one on this. \n",
    "But Pakistan were well short of that. \n",
    "Stay tuned for the presentation and other stuff... \"\"\"\n",
    "print(c)"
   ]
  },
  {
   "cell_type": "code",
   "execution_count": 48,
   "id": "a3d04ce1",
   "metadata": {},
   "outputs": [
    {
     "name": "stdout",
     "output_type": "stream",
     "text": [
      " Virat Kohli (Hindi pronunciation is an Indian international cricketer and the former captain of the Indian national cricket team who plays for Royal Challengers Bangalore in the IPL and Delhi in domestic cricket. Considered to be one of the best cricketers in the world, he is widely regarded as one of the greatest batsmen in the history of the sport.[4] Nicknamed The King due to his dominant style of play and popularity, Kohli holds numerous records in his career across all formats. In 2020, the International Cricket Council named him the male cricketer of the decade. Kohli has also contributed to India's successes, captaining the team from 2014 to 2022, and winning the 2011 World Cup and the 2013 Champions trophy. He is among the only four Indian cricketers who have played over 500 matches for India.[5] \n",
      "817\n"
     ]
    }
   ],
   "source": [
    "d = \" Virat Kohli (Hindi pronunciation is an Indian international cricketer and the former captain of the Indian national cricket team who plays for Royal Challengers Bangalore in the IPL and Delhi in domestic cricket. Considered to be one of the best cricketers in the world, he is widely regarded as one of the greatest batsmen in the history of the sport.[4] Nicknamed The King due to his dominant style of play and popularity, Kohli holds numerous records in his career across all formats. In 2020, the International Cricket Council named him the male cricketer of the decade. Kohli has also contributed to India's successes, captaining the team from 2014 to 2022, and winning the 2011 World Cup and the 2013 Champions trophy. He is among the only four Indian cricketers who have played over 500 matches for India.[5] \"\n",
    "print(d)\n",
    "print(len(d))"
   ]
  },
  {
   "cell_type": "markdown",
   "id": "e62d0056",
   "metadata": {},
   "source": [
    "# Indexing of string"
   ]
  },
  {
   "cell_type": "code",
   "execution_count": 35,
   "id": "a8da5cd1",
   "metadata": {},
   "outputs": [
    {
     "name": "stdout",
     "output_type": "stream",
     "text": [
      "n\n"
     ]
    }
   ],
   "source": [
    "a = \"Hello Students\"\n",
    "print(a[11])"
   ]
  },
  {
   "cell_type": "code",
   "execution_count": 36,
   "id": "fbab8fa1",
   "metadata": {},
   "outputs": [
    {
     "name": "stdout",
     "output_type": "stream",
     "text": [
      "t\n"
     ]
    }
   ],
   "source": [
    "a = \"Hello Students\"\n",
    "print(a[-2])"
   ]
  },
  {
   "cell_type": "code",
   "execution_count": 39,
   "id": "764347ae",
   "metadata": {},
   "outputs": [
    {
     "name": "stdout",
     "output_type": "stream",
     "text": [
      "r\n"
     ]
    }
   ],
   "source": [
    "s = \"How is your study going on ?\"\n",
    "print(s[11])"
   ]
  },
  {
   "cell_type": "code",
   "execution_count": 46,
   "id": "1e9194ab",
   "metadata": {},
   "outputs": [
    {
     "name": "stdout",
     "output_type": "stream",
     "text": [
      "?\n"
     ]
    }
   ],
   "source": [
    "z = \"How is your study going on ?\"\n",
    "print(z[-1])"
   ]
  },
  {
   "cell_type": "markdown",
   "id": "1ff3e27e",
   "metadata": {},
   "source": [
    "# Slicing of String"
   ]
  },
  {
   "cell_type": "code",
   "execution_count": 29,
   "id": "e0686cda",
   "metadata": {},
   "outputs": [
    {
     "name": "stdout",
     "output_type": "stream",
     "text": [
      "Hello\n"
     ]
    }
   ],
   "source": [
    "s = \"Hello students how are you ?\"\n",
    "print(s[0:5])"
   ]
  },
  {
   "cell_type": "code",
   "execution_count": 30,
   "id": "3d670547",
   "metadata": {},
   "outputs": [
    {
     "name": "stdout",
     "output_type": "stream",
     "text": [
      "students how\n"
     ]
    }
   ],
   "source": [
    "s = \"Hello students how are you ?\"\n",
    "print(s[6:18])"
   ]
  },
  {
   "cell_type": "code",
   "execution_count": 31,
   "id": "3a6399d1",
   "metadata": {},
   "outputs": [
    {
     "name": "stdout",
     "output_type": "stream",
     "text": [
      "Hlosuet o \n"
     ]
    }
   ],
   "source": [
    "s = \"Hello students how are you ?\"\n",
    "print(s[0:20:2])"
   ]
  },
  {
   "cell_type": "code",
   "execution_count": 47,
   "id": "5b954d83",
   "metadata": {},
   "outputs": [
    {
     "name": "stdout",
     "output_type": "stream",
     "text": [
      "? uoy era woh stneduts olleH\n"
     ]
    }
   ],
   "source": [
    "s = \"Hello students how are you ?\"\n",
    "print(s[::-1])"
   ]
  },
  {
   "cell_type": "markdown",
   "id": "e740d3d6",
   "metadata": {},
   "source": [
    "# finding the length of string "
   ]
  },
  {
   "cell_type": "code",
   "execution_count": 49,
   "id": "74653023",
   "metadata": {},
   "outputs": [
    {
     "name": "stdout",
     "output_type": "stream",
     "text": [
      "28\n"
     ]
    }
   ],
   "source": [
    "s = \"Hello students how are you ?\"\n",
    "print(len(s))"
   ]
  },
  {
   "cell_type": "code",
   "execution_count": 50,
   "id": "802ce273",
   "metadata": {},
   "outputs": [
    {
     "name": "stdout",
     "output_type": "stream",
     "text": [
      " Hello \n",
      "7\n"
     ]
    }
   ],
   "source": [
    "b = \" Hello \"\n",
    "print(b)\n",
    "print(len(b))"
   ]
  },
  {
   "cell_type": "markdown",
   "id": "32945854",
   "metadata": {},
   "source": [
    "# Upper Method"
   ]
  },
  {
   "cell_type": "code",
   "execution_count": 51,
   "id": "fd3a0792",
   "metadata": {},
   "outputs": [
    {
     "name": "stdout",
     "output_type": "stream",
     "text": [
      "HELLO HOW ARE YOU ?\n"
     ]
    }
   ],
   "source": [
    "a = \"hello how are you ?\"\n",
    "print(a.upper())"
   ]
  },
  {
   "cell_type": "markdown",
   "id": "61c73434",
   "metadata": {},
   "source": [
    "# lower Method"
   ]
  },
  {
   "cell_type": "code",
   "execution_count": 53,
   "id": "e016067d",
   "metadata": {},
   "outputs": [
    {
     "name": "stdout",
     "output_type": "stream",
     "text": [
      "hello how are you  ?\n"
     ]
    }
   ],
   "source": [
    "s = \"HELLO HOW ARE YOU  ?\"\n",
    "print(s.lower())"
   ]
  },
  {
   "cell_type": "markdown",
   "id": "4c1d0a1c",
   "metadata": {},
   "source": [
    "# Replace Function"
   ]
  },
  {
   "cell_type": "code",
   "execution_count": 57,
   "id": "6dd84965",
   "metadata": {},
   "outputs": [
    {
     "name": "stdout",
     "output_type": "stream",
     "text": [
      "Good Morning! HOW ARE YOU \n"
     ]
    }
   ],
   "source": [
    "a = \"HELLO HOW ARE YOU \"\n",
    "print(a.replace(\"HELLO\",\"Good Morning!\"))"
   ]
  },
  {
   "cell_type": "code",
   "execution_count": 58,
   "id": "f558e149",
   "metadata": {},
   "outputs": [
    {
     "name": "stdout",
     "output_type": "stream",
     "text": [
      "hello world\n",
      "hello India\n"
     ]
    }
   ],
   "source": [
    "b = \"hello world\"\n",
    "print(b)\n",
    "print(b.replace(\"world\",\"India\"))"
   ]
  },
  {
   "cell_type": "markdown",
   "id": "5abb1e97",
   "metadata": {},
   "source": [
    "# find method "
   ]
  },
  {
   "cell_type": "code",
   "execution_count": 61,
   "id": "566e5afe",
   "metadata": {},
   "outputs": [
    {
     "name": "stdout",
     "output_type": "stream",
     "text": [
      "10\n",
      "0\n"
     ]
    }
   ],
   "source": [
    "a = \"python is great\"\n",
    "print(a.find(\"g\"))\n",
    "print(a.find(\"p\"))"
   ]
  },
  {
   "cell_type": "code",
   "execution_count": null,
   "id": "5a48b985",
   "metadata": {},
   "outputs": [],
   "source": []
  }
 ],
 "metadata": {
  "kernelspec": {
   "display_name": "Python 3 (ipykernel)",
   "language": "python",
   "name": "python3"
  },
  "language_info": {
   "codemirror_mode": {
    "name": "ipython",
    "version": 3
   },
   "file_extension": ".py",
   "mimetype": "text/x-python",
   "name": "python",
   "nbconvert_exporter": "python",
   "pygments_lexer": "ipython3",
   "version": "3.9.12"
  }
 },
 "nbformat": 4,
 "nbformat_minor": 5
}
