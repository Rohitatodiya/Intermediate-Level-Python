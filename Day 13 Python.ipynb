{
 "cells": [
  {
   "cell_type": "markdown",
   "id": "ed71a4f4",
   "metadata": {},
   "source": [
    "# Numpy Part 02"
   ]
  },
  {
   "cell_type": "markdown",
   "id": "c0159597",
   "metadata": {},
   "source": [
    "# Day 13"
   ]
  },
  {
   "cell_type": "markdown",
   "id": "6f2e7cfb",
   "metadata": {},
   "source": [
    "# Slicing of numpy arrays "
   ]
  },
  {
   "cell_type": "code",
   "execution_count": 1,
   "id": "8aef4ede",
   "metadata": {},
   "outputs": [],
   "source": [
    "import numpy as np"
   ]
  },
  {
   "cell_type": "markdown",
   "id": "3b0ca614",
   "metadata": {},
   "source": [
    "# Slicing in 1-D array"
   ]
  },
  {
   "cell_type": "code",
   "execution_count": 2,
   "id": "0d807c2c",
   "metadata": {},
   "outputs": [
    {
     "name": "stdout",
     "output_type": "stream",
     "text": [
      "[2 3 4 5]\n"
     ]
    }
   ],
   "source": [
    "arr = np.array([1,2,3,4,5])\n",
    "print(arr[1:5])"
   ]
  },
  {
   "cell_type": "code",
   "execution_count": 3,
   "id": "b59941d1",
   "metadata": {},
   "outputs": [
    {
     "name": "stdout",
     "output_type": "stream",
     "text": [
      "[1 2]\n"
     ]
    }
   ],
   "source": [
    "arr = np.array([1,2,3,4,5,6,7,8])\n",
    "print(arr[0:2])"
   ]
  },
  {
   "cell_type": "markdown",
   "id": "29d18440",
   "metadata": {},
   "source": [
    "# Slicing in 2-D array"
   ]
  },
  {
   "cell_type": "code",
   "execution_count": 13,
   "id": "69c7df3a",
   "metadata": {},
   "outputs": [
    {
     "name": "stdout",
     "output_type": "stream",
     "text": [
      "[10 20 30 40 50]\n",
      "[50 60 70 80]\n"
     ]
    }
   ],
   "source": [
    "a = np.array([[10,20,30,40,50],[40,50,60,70,80]])\n",
    "print(a[0,0:6])\n",
    "print(a[1,1:6])"
   ]
  },
  {
   "cell_type": "code",
   "execution_count": 16,
   "id": "717dc9c4",
   "metadata": {},
   "outputs": [],
   "source": [
    "import numpy as np"
   ]
  },
  {
   "cell_type": "code",
   "execution_count": 17,
   "id": "2146163a",
   "metadata": {},
   "outputs": [
    {
     "ename": "SyntaxError",
     "evalue": "invalid syntax (1950509848.py, line 1)",
     "output_type": "error",
     "traceback": [
      "\u001b[1;36m  Input \u001b[1;32mIn [17]\u001b[1;36m\u001b[0m\n\u001b[1;33m    Data Type in NumPy\u001b[0m\n\u001b[1;37m         ^\u001b[0m\n\u001b[1;31mSyntaxError\u001b[0m\u001b[1;31m:\u001b[0m invalid syntax\n"
     ]
    }
   ],
   "source": [
    "Data Type in NumPy\n",
    "NumPy has some extra data types, and refer to data types with one character, like i for intergers,\n",
    "i - integer \n",
    "b - boolean\n",
    "u - unsigned integer\n",
    "f - float \n",
    "c - complex\n",
    "m - timedelta\n",
    "M - datetime\n",
    "0 - object \n",
    "s - string\n",
    "u - unicode string\n",
    "v - fixed chunk of memory for other type (void)\n"
   ]
  },
  {
   "cell_type": "markdown",
   "id": "a12294a0",
   "metadata": {},
   "source": [
    "# Cheaking the data type in n array"
   ]
  },
  {
   "cell_type": "code",
   "execution_count": 18,
   "id": "87549338",
   "metadata": {},
   "outputs": [
    {
     "name": "stdout",
     "output_type": "stream",
     "text": [
      "int32\n"
     ]
    }
   ],
   "source": [
    "arr = np.array([1,2,3,4,5])\n",
    "print(arr.dtype)"
   ]
  },
  {
   "cell_type": "code",
   "execution_count": 21,
   "id": "f0e3e218",
   "metadata": {},
   "outputs": [
    {
     "name": "stdout",
     "output_type": "stream",
     "text": [
      "<U7\n"
     ]
    }
   ],
   "source": [
    "arr = np.array(['animals', 'bat', 'cat'])\n",
    "print(arr.dtype)"
   ]
  },
  {
   "cell_type": "markdown",
   "id": "db43f001",
   "metadata": {},
   "source": [
    "# Creating arrays with a defined data type"
   ]
  },
  {
   "cell_type": "code",
   "execution_count": 30,
   "id": "b36da487",
   "metadata": {},
   "outputs": [],
   "source": [
    "import numpy as np"
   ]
  },
  {
   "cell_type": "code",
   "execution_count": 47,
   "id": "7b8aa920",
   "metadata": {},
   "outputs": [
    {
     "ename": "TypeError",
     "evalue": "data type 's' not understood",
     "output_type": "error",
     "traceback": [
      "\u001b[1;31m---------------------------------------------------------------------------\u001b[0m",
      "\u001b[1;31mTypeError\u001b[0m                                 Traceback (most recent call last)",
      "Input \u001b[1;32mIn [47]\u001b[0m, in \u001b[0;36m<cell line: 1>\u001b[1;34m()\u001b[0m\n\u001b[1;32m----> 1\u001b[0m arr \u001b[38;5;241m=\u001b[39m \u001b[43mnp\u001b[49m\u001b[38;5;241;43m.\u001b[39;49m\u001b[43marray\u001b[49m\u001b[43m(\u001b[49m\u001b[43m[\u001b[49m\u001b[38;5;241;43m1\u001b[39;49m\u001b[43m,\u001b[49m\u001b[38;5;241;43m2\u001b[39;49m\u001b[43m,\u001b[49m\u001b[38;5;241;43m3\u001b[39;49m\u001b[43m,\u001b[49m\u001b[38;5;241;43m4\u001b[39;49m\u001b[43m,\u001b[49m\u001b[43m]\u001b[49m\u001b[43m,\u001b[49m\u001b[43m \u001b[49m\u001b[43mdtype\u001b[49m\u001b[43m \u001b[49m\u001b[38;5;241;43m=\u001b[39;49m\u001b[43m \u001b[49m\u001b[38;5;124;43m'\u001b[39;49m\u001b[38;5;124;43ms\u001b[39;49m\u001b[38;5;124;43m'\u001b[39;49m\u001b[43m)\u001b[49m\n\u001b[0;32m      2\u001b[0m \u001b[38;5;28mprint\u001b[39m(arr)\n\u001b[0;32m      3\u001b[0m \u001b[38;5;28mprint\u001b[39m(arr\u001b[38;5;241m.\u001b[39mdtype)\n",
      "\u001b[1;31mTypeError\u001b[0m: data type 's' not understood"
     ]
    }
   ],
   "source": [
    "arr = np.array([1,2,3,4], dtype = 's')\n",
    "print(arr)\n",
    "print(arr.dtype)"
   ]
  },
  {
   "cell_type": "markdown",
   "id": "6aa7fad5",
   "metadata": {},
   "source": [
    "# Create array with data types 4 bytes integer"
   ]
  },
  {
   "cell_type": "code",
   "execution_count": 48,
   "id": "ac5f9587",
   "metadata": {},
   "outputs": [
    {
     "name": "stdout",
     "output_type": "stream",
     "text": [
      "[1 2 3 4]\n",
      "int32\n"
     ]
    }
   ],
   "source": [
    "arr = np.array([1,2,3,4], dtype = 'i4')\n",
    "print(arr)\n",
    "print(arr.dtype)"
   ]
  },
  {
   "cell_type": "markdown",
   "id": "85d51645",
   "metadata": {},
   "source": [
    "# Numpy array Shape"
   ]
  },
  {
   "cell_type": "markdown",
   "id": "0b84db43",
   "metadata": {},
   "source": [
    "the shape of an array is the number of elements in each dimension"
   ]
  },
  {
   "cell_type": "markdown",
   "id": "ffb50396",
   "metadata": {},
   "source": [
    "# Print the Shape of a 2D Array"
   ]
  },
  {
   "cell_type": "code",
   "execution_count": 50,
   "id": "6b062b41",
   "metadata": {},
   "outputs": [
    {
     "name": "stdout",
     "output_type": "stream",
     "text": [
      "(2, 4)\n"
     ]
    }
   ],
   "source": [
    "arr = np.array([[1,2,3,4],[6,7,8,9]])\n",
    "print(arr.shape)"
   ]
  },
  {
   "cell_type": "markdown",
   "id": "5d78d496",
   "metadata": {},
   "source": [
    "# 3D Array"
   ]
  },
  {
   "cell_type": "code",
   "execution_count": 52,
   "id": "b5d445ee",
   "metadata": {},
   "outputs": [
    {
     "name": "stdout",
     "output_type": "stream",
     "text": [
      "(1, 3, 4)\n"
     ]
    }
   ],
   "source": [
    "arr = np.array([[[1,2,3,4],[6,7,8,9],[10,20,30,50]]])\n",
    "print(arr.shape)"
   ]
  },
  {
   "cell_type": "markdown",
   "id": "a4c7fea4",
   "metadata": {},
   "source": [
    "# Joining Numpy Arrays"
   ]
  },
  {
   "cell_type": "markdown",
   "id": "cab41d72",
   "metadata": {},
   "source": [
    "# For 1D Array"
   ]
  },
  {
   "cell_type": "code",
   "execution_count": 55,
   "id": "9e8da91d",
   "metadata": {},
   "outputs": [
    {
     "name": "stdout",
     "output_type": "stream",
     "text": [
      "[1 2 3 4 5 6]\n"
     ]
    }
   ],
   "source": [
    "arr1 = np.array([1,2,3])\n",
    "arr2 = np.array([4,5,6])\n",
    "arr = np.concatenate((arr1,arr2))\n",
    "print(arr)"
   ]
  },
  {
   "cell_type": "markdown",
   "id": "fbdd012d",
   "metadata": {},
   "source": [
    "# For 2D Array"
   ]
  },
  {
   "cell_type": "code",
   "execution_count": 60,
   "id": "8861a1d4",
   "metadata": {},
   "outputs": [
    {
     "name": "stdout",
     "output_type": "stream",
     "text": [
      "[[ 1  2  3  6]\n",
      " [ 4  5 19  7]]\n"
     ]
    }
   ],
   "source": [
    "arr1 = np.array([[1,2],[4,5]])\n",
    "\n",
    "arr2 = np.array([[3,6],[19,7]])\n",
    "\n",
    "arr = np.concatenate((arr1,arr2),axis = 1)\n",
    "\n",
    "print(arr)"
   ]
  },
  {
   "cell_type": "code",
   "execution_count": 61,
   "id": "d7a4624f",
   "metadata": {},
   "outputs": [
    {
     "name": "stdout",
     "output_type": "stream",
     "text": [
      "[[ 1  2]\n",
      " [ 4  5]\n",
      " [ 3  6]\n",
      " [19  7]]\n"
     ]
    }
   ],
   "source": [
    "arr1 = np.array([[1,2],[4,5]])\n",
    "\n",
    "arr2 = np.array([[3,6],[19,7]])\n",
    "\n",
    "arr = np.concatenate((arr1,arr2),axis = 0)\n",
    "\n",
    "print(arr)"
   ]
  },
  {
   "cell_type": "markdown",
   "id": "c17a3d46",
   "metadata": {},
   "source": [
    "# Splitting Numpy arrays"
   ]
  },
  {
   "cell_type": "markdown",
   "id": "556a198f",
   "metadata": {},
   "source": [
    "# splitting the array in 3 parts"
   ]
  },
  {
   "cell_type": "code",
   "execution_count": 62,
   "id": "05d88c62",
   "metadata": {},
   "outputs": [
    {
     "name": "stdout",
     "output_type": "stream",
     "text": [
      "[array([1, 2]), array([3, 4]), array([5, 6])]\n"
     ]
    }
   ],
   "source": [
    "arr = np.array([1,2,3,4,5,6])\n",
    "newarr = np.array_split(arr,3)\n",
    "print(newarr)"
   ]
  },
  {
   "cell_type": "markdown",
   "id": "1e7a46ca",
   "metadata": {},
   "source": [
    "# splitting the array in 4 parts"
   ]
  },
  {
   "cell_type": "code",
   "execution_count": 63,
   "id": "87db231a",
   "metadata": {},
   "outputs": [
    {
     "name": "stdout",
     "output_type": "stream",
     "text": [
      "[array([1, 2]), array([3, 4]), array([5]), array([6])]\n"
     ]
    }
   ],
   "source": [
    "arr = np.array([1,2,3,4,5,6])\n",
    "newarr = np.array_split(arr,4)\n",
    "print(newarr)"
   ]
  },
  {
   "cell_type": "markdown",
   "id": "79e3aa20",
   "metadata": {},
   "source": [
    "# Revel & flatten"
   ]
  },
  {
   "cell_type": "markdown",
   "id": "21c78e3b",
   "metadata": {},
   "source": [
    "# converts multimensional array into 1D array"
   ]
  },
  {
   "cell_type": "code",
   "execution_count": 65,
   "id": "e4f90812",
   "metadata": {},
   "outputs": [
    {
     "name": "stdout",
     "output_type": "stream",
     "text": [
      "[[[1 2 3]\n",
      "  [4 5 6]\n",
      "  [7 8 9]]]\n",
      "dimension is  3\n"
     ]
    }
   ],
   "source": [
    "m = np.array([[[1,2,3],[4,5,6],[7,8,9]]])\n",
    "print(m)\n",
    "print(\"dimension is \",m.ndim)"
   ]
  },
  {
   "cell_type": "code",
   "execution_count": 66,
   "id": "1eae18b8",
   "metadata": {},
   "outputs": [
    {
     "name": "stdout",
     "output_type": "stream",
     "text": [
      "[[[1 2 3]\n",
      "  [4 5 6]\n",
      "  [7 8 9]]]\n",
      "dimension is  3\n",
      "[1 2 3 4 5 6 7 8 9]\n",
      "now the new dimension is  1\n"
     ]
    }
   ],
   "source": [
    "m = np.array([[[1,2,3],[4,5,6],[7,8,9]]])\n",
    "print(m)\n",
    "print(\"dimension is \",m.ndim)\n",
    "n = m.ravel()\n",
    "print(n)\n",
    "print(\"now the new dimension is \", n.ndim)"
   ]
  },
  {
   "cell_type": "code",
   "execution_count": 67,
   "id": "7641e4b1",
   "metadata": {},
   "outputs": [
    {
     "name": "stdout",
     "output_type": "stream",
     "text": [
      "[[[1 2 3]\n",
      "  [4 5 6]\n",
      "  [7 8 9]]]\n",
      "dimension is  3\n",
      "[1 2 3 4 5 6 7 8 9]\n",
      "now the new dimension is  1\n"
     ]
    }
   ],
   "source": [
    "m = np.array([[[1,2,3],[4,5,6],[7,8,9]]])\n",
    "print(m)\n",
    "print(\"dimension is \",m.ndim)\n",
    "n = m.flatten()\n",
    "print(n)\n",
    "print(\"now the new dimension is \", n.ndim)"
   ]
  },
  {
   "cell_type": "code",
   "execution_count": 68,
   "id": "63861ca2",
   "metadata": {},
   "outputs": [
    {
     "name": "stdout",
     "output_type": "stream",
     "text": [
      "[[[[1 2 3]\n",
      "   [4 5 6]\n",
      "   [6 5 6]\n",
      "   [1 4 5]]]]\n",
      "dimension is  4\n",
      "[1 2 3 4 5 6 6 5 6 1 4 5]\n",
      "now the new dimension is  1\n"
     ]
    }
   ],
   "source": [
    "c = np.array([[[[1,2,3],[4,5,6],[6,5,6],[1,4,5]]]])\n",
    "print(c)\n",
    "print(\"dimension is \",c.ndim)\n",
    "d = c.ravel()\n",
    "print(d)\n",
    "print(\"now the new dimension is \",d.ndim)"
   ]
  },
  {
   "cell_type": "code",
   "execution_count": 69,
   "id": "3cea9089",
   "metadata": {},
   "outputs": [
    {
     "name": "stdout",
     "output_type": "stream",
     "text": [
      "[[[[1 2 3]\n",
      "   [4 5 6]\n",
      "   [6 5 6]\n",
      "   [1 4 5]]]]\n",
      "dimension is  4\n",
      "[1 2 3 4 5 6 6 5 6 1 4 5]\n",
      "now the new dimension is  1\n"
     ]
    }
   ],
   "source": [
    "c = np.array([[[[1,2,3],[4,5,6],[6,5,6],[1,4,5]]]])\n",
    "print(c)\n",
    "print(\"dimension is \",c.ndim)\n",
    "d = c.flatten()\n",
    "print(d)\n",
    "print(\"now the new dimension is \",d.ndim)"
   ]
  },
  {
   "cell_type": "markdown",
   "id": "e70a3bc7",
   "metadata": {},
   "source": [
    "# Unique Function "
   ]
  },
  {
   "cell_type": "code",
   "execution_count": 70,
   "id": "5acd1e91",
   "metadata": {},
   "outputs": [
    {
     "name": "stdout",
     "output_type": "stream",
     "text": [
      "[ 1  2  3  1  3  2  3  4  5  6  7  8  9 11 12 23 45  2  5 12]\n",
      "[ 1  2  3  4  5  6  7  8  9 11 12 23 45]\n"
     ]
    }
   ],
   "source": [
    "k = np.array([1,2,3,1,3,2,3,4,5,6,7,8,9,11,12,23,45,2,5,12])\n",
    "print(k)\n",
    "x = np.unique(k)\n",
    "print(x)"
   ]
  },
  {
   "cell_type": "code",
   "execution_count": 72,
   "id": "54416ad3",
   "metadata": {},
   "outputs": [
    {
     "name": "stdout",
     "output_type": "stream",
     "text": [
      "[ 1  2  3  1  3  2  3  4  5  6  7  8  9 11 12 23 45  2  5 12]\n",
      "(array([ 1,  2,  3,  4,  5,  6,  7,  8,  9, 11, 12, 23, 45]), array([ 0,  1,  2,  7,  8,  9, 10, 11, 12, 13, 14, 15, 16], dtype=int64), array([2, 3, 3, 1, 2, 1, 1, 1, 1, 1, 2, 1, 1], dtype=int64))\n"
     ]
    }
   ],
   "source": [
    "k = np.array([1,2,3,1,3,2,3,4,5,6,7,8,9,11,12,23,45,2,5,12])\n",
    "print(k)\n",
    "x = np.unique(k, return_index = True, return_counts = True)\n",
    "print(x)"
   ]
  },
  {
   "cell_type": "markdown",
   "id": "f7cb094c",
   "metadata": {},
   "source": [
    "# Delete"
   ]
  },
  {
   "cell_type": "code",
   "execution_count": 73,
   "id": "261849d5",
   "metadata": {},
   "outputs": [
    {
     "name": "stdout",
     "output_type": "stream",
     "text": [
      "[11 13 14]\n"
     ]
    }
   ],
   "source": [
    "a = np.array([11,12,13,14])\n",
    "d = np.delete(a,[1])\n",
    "print(d)"
   ]
  },
  {
   "cell_type": "code",
   "execution_count": 79,
   "id": "3f177aa4",
   "metadata": {},
   "outputs": [
    {
     "name": "stdout",
     "output_type": "stream",
     "text": [
      "[[ 2  3  4  5  6]\n",
      " [ 3  5  6  7  7]\n",
      " [ 2  4  5 56  6]]\n",
      "\n",
      "[[ 2  4  5  6]\n",
      " [ 3  6  7  7]\n",
      " [ 2  5 56  6]]\n"
     ]
    }
   ],
   "source": [
    "x = np.array([[2,3,4,5,6],[3,5,6,7,7,],[2,4,5,56,6]])\n",
    "print(x)\n",
    "m = np.delete(x, 1, axis = 1)\n",
    "print()\n",
    "print(m)"
   ]
  },
  {
   "cell_type": "code",
   "execution_count": null,
   "id": "42454a54",
   "metadata": {},
   "outputs": [],
   "source": []
  }
 ],
 "metadata": {
  "kernelspec": {
   "display_name": "Python 3 (ipykernel)",
   "language": "python",
   "name": "python3"
  },
  "language_info": {
   "codemirror_mode": {
    "name": "ipython",
    "version": 3
   },
   "file_extension": ".py",
   "mimetype": "text/x-python",
   "name": "python",
   "nbconvert_exporter": "python",
   "pygments_lexer": "ipython3",
   "version": "3.11.5"
  }
 },
 "nbformat": 4,
 "nbformat_minor": 5
}
